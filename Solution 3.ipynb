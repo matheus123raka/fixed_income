{
 "cells": [
  {
   "cell_type": "markdown",
   "id": "bac929b8",
   "metadata": {},
   "source": [
    "# <span style=\"color:red\"> Solutions 3</span>\n",
    "\n",
    "## FINM 37400 - 2024\n",
    "\n",
    "### UChicago Financial Mathematics\n",
    "\n",
    "* Mark Hendricks\n",
    "* hendricks@uchicago.edu"
   ]
  },
  {
   "cell_type": "markdown",
   "id": "c71b3505",
   "metadata": {},
   "source": [
    "***"
   ]
  },
  {
   "cell_type": "markdown",
   "id": "42647704",
   "metadata": {},
   "source": [
    "# 1 HBS Case: Fixed-Income Arbitrage in a Financial Crisis (C): Spread and Swap Spread in November 2008"
   ]
  },
  {
   "cell_type": "markdown",
   "id": "20d04ae8",
   "metadata": {},
   "source": [
    "## Simplification of the setup\n",
    "\n",
    "The date is Nov 4, 2008.\n",
    "\n",
    "**Treasury bond**\n",
    "* Suppose the Treasury bond matures exactly 30 years later, on Nov 4, 2038 rather than May 15, 2008. \n",
    "* The YTM of this freshly issued treasury is 4.193\\% with a semiannual coupon of 4.50\\%, same as is given in the case. (So we're just changing the maturity date to simplify things, but keeping the market data.)\n",
    "\n",
    "**Swap**\n",
    "* The fixed leg of the swap pays semiannually, with swap rate of 4.2560\\%, as given in the case.\n",
    "* The floating leg of the swap also pays semiannually--not quarterly--such that the payment dates are identical on both legs. Thus, it also resets the floating rate semiannually, not quarterly.\n",
    "* The floating rate of the swap equals the repo rate used in the trade. Thus, these two rates cancel in the financing of the trade. (No need to consider the TED spread.) "
   ]
  },
  {
   "cell_type": "markdown",
   "id": "b4dc60d2",
   "metadata": {},
   "source": [
    "## Case Clarifications\n",
    "\n",
    "\n",
    "### Duration Quotes\n",
    "\n",
    "| |Case Info: Price (per \\$100 face) |Case Info: DV01 or Val01 | DV01 per \\$100 face | Modified **dollar** duration (\\$100 face) | Modified duration | \n",
    "|:----------|:---------|:----------:|----------:|----------:|--------:|\n",
    "| T bond    |\\$105.17 |  .1746 per \\$100 face  | .1746 | \\$1,746.00       | 16.6017      |\n",
    "| Swap     |\\$100.00  | \\\\$17,191 per \\$10 million face\\* | .17191 | \\$1,719.10        | 17.191       |\n",
    "\n",
    "\\* *The case lists the DV01 for the swap in the first paragraph in the first paragraph of page 6. In the fourth paragraph of the same page, it then rounds the DV01, but we cite the first value.*\n",
    "  \n",
    "\n",
    "### Maturity Mismatch\n",
    "\n",
    "The maturity of the bond is August 2038, whereas the date is Nov 2008. Thus, the bond has less than 30 years to maturity, yet he is entering a 30-year swap. \n",
    "\n",
    "For simplicity, we imagine the bond is issued in Nov 2008 and thus has maturity of 30 years at the time of the case.\n",
    "\n",
    "However, then the case quotes for the Nov price and YTM of the bond no longer are accurate. Use one and adjust the other. Namely, we could...\n",
    "* use the Nov 4 **YTM** quoted in the case, and adjust the bond **price**.\n",
    "* use the Nov 4 **price** quoted in the case, and adjust the **YTM**.\n",
    "    \n",
    "We do the former, keep the quoted YTM, assume time-to-maturity of `30`, and recalculate the Nov 2008 price. (It is close to the quoted price in the case.)"
   ]
  },
  {
   "cell_type": "markdown",
   "id": "88f4ddfa",
   "metadata": {},
   "source": [
    "***"
   ]
  },
  {
   "cell_type": "markdown",
   "id": "2b81df67",
   "metadata": {},
   "source": [
    "## 1.0.\n",
    "\n",
    "Report the price of the 30-year T-bond in Nov 2008. Given the discussion about `Maturity Mismatch`, we are repricing the bond, so it will not exactly equal `105` as reported in the case."
   ]
  },
  {
   "cell_type": "markdown",
   "id": "48cc1866",
   "metadata": {},
   "source": [
    "## 1.1\n",
    "\n",
    "List the projected cashflows on May 4, 2009, exactly six months into the trade, on the first coupon and swap date.\n",
    "\n",
    "#### Clarification\n",
    "List these cashflows for face value of $1B, not the $0.97B noted in the case. As mentioned in \"Case Clarifications\", we will not use this number. Rather, we calculate our own hedge ratio in a problem below."
   ]
  },
  {
   "cell_type": "markdown",
   "id": "2076b2c9",
   "metadata": {},
   "source": [
    "## 1.2\n",
    "\n",
    "What is the duration of...\n",
    "* the T-bond\n",
    "* the swap\n",
    "\n",
    "Remember that...\n",
    "* the swap can be decomposed into a fixed-rate bond and a floating-rate note\n",
    "* a floating-rate note has duration equal to the time until the next reset. Thus, at initialization, it has duration equal to 0.5 years.\n",
    "\n",
    "Is the duration for the \"paying-fixed\" swap positive or negative? Is it bigger or smaller in magnitude than the T-bond?\n",
    "\n",
    "For this problem, calculate the Macauley duration and the dollar (Macauley) duration."
   ]
  },
  {
   "cell_type": "markdown",
   "id": "2b944cf6",
   "metadata": {},
   "source": [
    "## 1.3\n",
    "\n",
    "What hedge ratio should be used to balance the notional size of the Treasury bond with the notional size of the swap, such that it is a duration-neutral position?\n",
    "\n",
    "Specifically, if the trader enters the swap paying fixed on \\$500 million notional, how large of a position should they take in the Treasury bond?"
   ]
  },
  {
   "cell_type": "markdown",
   "id": "95877cb8",
   "metadata": {},
   "source": [
    "## 1.4\n",
    "\n",
    "Suppose it is May 4, 2009, exactly six months after putting the trade on.\n",
    "\n",
    "The spread is at -28 bps due to...\n",
    "* The YTM on a new 30-year bond has risen to 4.36\\%\n",
    "* The swap rate on a new 30-year swap has dropped to 4.08\\%\n",
    "\n",
    "Explain conceptually how this movement impacts the components of the trade."
   ]
  },
  {
   "cell_type": "markdown",
   "id": "c8bf1f3a",
   "metadata": {},
   "source": [
    "## 1.5\n",
    "\n",
    "Calculate the value of the position on May 4, 2009, immediately after the first coupon and swap payments and swap reset. \n",
    "\n",
    "* Calculate the revised price of the Treasury bond by assuming you can apply the (May 4) 30-year YTM as a discount rate to the 29.5 year bond. (We are just using this for a rough approximation. You know that good pricing would require a discount curve, but let's not get bogged down with that here.)\n",
    "\n",
    "\n",
    "* Calculate the value of the swap by decomposing it into a fixed-rate bond and a floating-rate bond.\n",
    "    * The 29.5 year fixed-rate leg is priced using the (May 4) 30-year swap rate as a discount rate.\n",
    "    * The floating-rate leg is priced at par given that floating-rate notes are par immediately after resets.\n",
    "    \n",
    "**Note**\n",
    "\n",
    "You are being asked to calculate these valuations using the exact formula between price, cashflows, and YTM discount rate. We are not simply approximating with duration, as we already know the position was set up with zero dollar duration.\n",
    "\n",
    "From the Discussion 1 notebook, we have this formula expressing a bond's price as a function of the coupon, $c$, and the YTM, $y_j$.\n",
    "\n",
    "$\\begin{align*}\n",
    "P_j(t,T,c) = \\sum_{i=1}^{n-1}\\frac{100\\left(\\frac{c}{2}\\right)}{\\left(1+\\frac{y_j}{2}\\right)^{2(T_i-t)}} + \\frac{100\\left(1+\\frac{c}{2}\\right)}{\\left(1+\\frac{y_j}{2}\\right)^{2(T-t)}}\n",
    "\\end{align*}\n",
    "$"
   ]
  },
  {
   "cell_type": "markdown",
   "id": "7fba6574",
   "metadata": {},
   "source": [
    "## 1.6\n",
    "\n",
    "Accounting for the change in value of the positions, as well as the 6-month cashflows paid on May 4, \n",
    "* what is the net profit and loss (pnl) of the position?\n",
    "* what is the return on the equity capital, considering that there was a 2\\% haircut (equity contribution) on the size of the initial treasury bond position."
   ]
  },
  {
   "cell_type": "markdown",
   "id": "e9c4152f",
   "metadata": {},
   "source": [
    "***"
   ]
  },
  {
   "cell_type": "markdown",
   "id": "82b7eb89",
   "metadata": {},
   "source": [
    "# <span style=\"color:red\">Solution 1</span>"
   ]
  },
  {
   "cell_type": "markdown",
   "id": "8bd08556",
   "metadata": {},
   "source": [
    "See separate notebook discussing the case."
   ]
  },
  {
   "cell_type": "markdown",
   "id": "563d93d6",
   "metadata": {},
   "source": [
    "***"
   ]
  },
  {
   "cell_type": "markdown",
   "id": "633edb93",
   "metadata": {},
   "source": [
    "# 2. Factor Duration"
   ]
  },
  {
   "cell_type": "markdown",
   "id": "0f6e4aa6",
   "metadata": {},
   "source": [
    "### Data\n",
    "\n",
    "This problem uses data from,\n",
    "* `/data/yields.xlsx`\n",
    "* `/data/treasury_ts_duration_2024-10-31.xlsx`"
   ]
  },
  {
   "cell_type": "markdown",
   "id": "6127c1e5",
   "metadata": {},
   "source": [
    "#### Load Yields"
   ]
  },
  {
   "cell_type": "code",
   "execution_count": 1,
   "id": "8e5225e5",
   "metadata": {},
   "outputs": [],
   "source": [
    "import pandas as pd\n",
    "import numpy as np"
   ]
  },
  {
   "cell_type": "code",
   "execution_count": 2,
   "id": "69fbc7c2",
   "metadata": {},
   "outputs": [],
   "source": [
    "filepath = '../data/yields.xlsx'\n",
    "yields = pd.read_excel(filepath, sheet_name='yields')\n",
    "yields.set_index('caldt',inplace=True)"
   ]
  },
  {
   "cell_type": "markdown",
   "id": "de979e9a",
   "metadata": {},
   "source": [
    "#### Load Prices and Durations of Two Treasuries"
   ]
  },
  {
   "cell_type": "code",
   "execution_count": 3,
   "id": "18b846dd",
   "metadata": {},
   "outputs": [
    {
     "data": {
      "text/html": [
       "<div>\n",
       "<style scoped>\n",
       "    .dataframe tbody tr th:only-of-type {\n",
       "        vertical-align: middle;\n",
       "    }\n",
       "\n",
       "    .dataframe tbody tr th {\n",
       "        vertical-align: top;\n",
       "    }\n",
       "\n",
       "    .dataframe thead th {\n",
       "        text-align: right;\n",
       "    }\n",
       "</style>\n",
       "<table border=\"1\" class=\"dataframe\">\n",
       "  <thead>\n",
       "    <tr style=\"text-align: right;\">\n",
       "      <th></th>\n",
       "      <th>type</th>\n",
       "      <th>issue date</th>\n",
       "      <th>maturity date</th>\n",
       "      <th>cpn rate</th>\n",
       "    </tr>\n",
       "    <tr>\n",
       "      <th>KYTREASNO</th>\n",
       "      <th></th>\n",
       "      <th></th>\n",
       "      <th></th>\n",
       "      <th></th>\n",
       "    </tr>\n",
       "  </thead>\n",
       "  <tbody>\n",
       "    <tr>\n",
       "      <th>207391</th>\n",
       "      <td>note</td>\n",
       "      <td>2019-08-15</td>\n",
       "      <td>2029-08-15</td>\n",
       "      <td>1.625</td>\n",
       "    </tr>\n",
       "    <tr>\n",
       "      <th>207392</th>\n",
       "      <td>bond</td>\n",
       "      <td>2019-08-15</td>\n",
       "      <td>2049-08-15</td>\n",
       "      <td>2.250</td>\n",
       "    </tr>\n",
       "  </tbody>\n",
       "</table>\n",
       "</div>"
      ],
      "text/plain": [
       "           type issue date maturity date  cpn rate\n",
       "KYTREASNO                                         \n",
       "207391     note 2019-08-15    2029-08-15     1.625\n",
       "207392     bond 2019-08-15    2049-08-15     2.250"
      ]
     },
     "execution_count": 3,
     "metadata": {},
     "output_type": "execute_result"
    }
   ],
   "source": [
    "QUOTE_DATE = '2024-10-31'\n",
    "filepath = f'../data/treasury_ts_duration_{QUOTE_DATE}.xlsx'\n",
    "\n",
    "data = pd.read_excel(filepath,sheet_name='database')\n",
    "data_info =  data.drop_duplicates(subset='KYTREASNO', keep='first').set_index('KYTREASNO')\n",
    "data_info[['type','issue date','maturity date','cpn rate']]"
   ]
  },
  {
   "cell_type": "markdown",
   "id": "28e8f46c",
   "metadata": {},
   "source": [
    "You will largely focus on the sheets which give the timeseries of prices and durations for each of the two securities, as shown in the following code."
   ]
  },
  {
   "cell_type": "code",
   "execution_count": 4,
   "id": "8724ba0a",
   "metadata": {},
   "outputs": [],
   "source": [
    "SHEET_PRICE = 'price'\n",
    "SHEET_DURATION = 'duration'\n",
    "INDEX_NAME = 'quote date'\n",
    "\n",
    "price = pd.read_excel(filepath,sheet_name=SHEET_PRICE).set_index(INDEX_NAME)\n",
    "duration = pd.read_excel(filepath,sheet_name=SHEET_DURATION).set_index(INDEX_NAME)"
   ]
  },
  {
   "cell_type": "markdown",
   "id": "08fd667b",
   "metadata": {},
   "source": [
    "### 2.1.\n",
    "\n",
    "Construct the following yield-curve factors from the `yields` data set:\n",
    "\n",
    "$\\begin{align}\n",
    "x^{\\text{level}}_t =& \\frac{1}{N_{\\text{yields}}}\\sum_{i=1}^{N_{\\text{yields}}} y^{(i)}_t\\\\\n",
    "x^{\\text{slope}}_t =& y^{(30)}_t - y^{(1)}_t\\\\\n",
    "x^{\\text{curvature}}_t =& -y^{(1)}_t + 2 y^{(10)}_t - y^{(30)}_t\n",
    "\\end{align}$"
   ]
  },
  {
   "cell_type": "markdown",
   "id": "42d3a537",
   "metadata": {},
   "source": [
    "### 2.2\n",
    "\n",
    "Get the bond prices and durations for the two bonds in the data set referenced above.\n",
    "\n",
    "#### Align the data\n",
    "\n",
    "Align the bond pricing data with the yield factor data, so that you have data for both in the intersection of their dates.\n",
    "\n",
    "\n",
    "#### Estimate the regression\n",
    "\n",
    "Estimate the regression in the form of day-over-day differences for both bond prices and factors. That is, we are using regression to approximate the factor duration equation,\n",
    "\n",
    "$\\begin{align}\n",
    "\\frac{dP}{P} = \\alpha + \\beta_L dx_{\\text{level}} + \\beta_S dx_{\\text{slope}} + \\beta_C dx_{\\text{curvature}} + \\epsilon\n",
    "\\end{align}$\n",
    "\n",
    "Report the betas for each of these factors, for each of the bond prices."
   ]
  },
  {
   "cell_type": "markdown",
   "id": "4776f6e5",
   "metadata": {},
   "source": [
    "### 2.3.\n",
    "\n",
    "Compare the \"level\" factor beta for each of the two treasuries with the average  duration for each bond as reported in the data set.\n",
    "\n",
    "* How closely does the average duration for a bond compare to its \"level\" beta?\n",
    "* What do you conclude about the usefulness of mathematical duration vs regression sensitivities?"
   ]
  },
  {
   "cell_type": "markdown",
   "id": "2df02787",
   "metadata": {},
   "source": [
    "### 2.4.\n",
    "\n",
    "In the duration-hedged trade of `Homework 2, Section 2`, was the that trade was long or short this slope factor? \n",
    "\n",
    "Do you think the slope factor exposure had a large impact on the trade?\n",
    "\n",
    "No new analysis needed, just draw a conclusion from the estimates above along with the trade construction in `HW 2, Sec 2`."
   ]
  },
  {
   "cell_type": "markdown",
   "id": "fcabcd0c",
   "metadata": {},
   "source": [
    "***"
   ]
  },
  {
   "cell_type": "markdown",
   "id": "3ab32889",
   "metadata": {},
   "source": [
    "# <span style=\"color:red\">Solution 2</span>"
   ]
  },
  {
   "cell_type": "code",
   "execution_count": 5,
   "id": "e631c15d",
   "metadata": {},
   "outputs": [],
   "source": [
    "import datetime\n",
    "import warnings\n",
    "\n",
    "from sklearn.linear_model import LinearRegression\n",
    "from scipy.optimize import minimize\n",
    "from scipy.optimize import fsolve\n",
    "\n",
    "import matplotlib.pyplot as plt\n",
    "%matplotlib inline\n",
    "plt.rcParams['figure.figsize'] = (12,6)\n",
    "plt.rcParams['font.size'] = 15\n",
    "plt.rcParams['legend.fontsize'] = 13\n",
    "\n",
    "import sys\n",
    "sys.path.insert(0, '../cmds')\n",
    "from treasury_cmds import *"
   ]
  },
  {
   "cell_type": "markdown",
   "id": "e4e588dd",
   "metadata": {},
   "source": [
    "### <span style=\"color:red\">2.1</span>"
   ]
  },
  {
   "cell_type": "code",
   "execution_count": 6,
   "id": "38cded3d",
   "metadata": {},
   "outputs": [],
   "source": [
    "shapes = pd.DataFrame(yields.mean(axis=1),columns=['level'])\n",
    "shapes['slope'] = yields[30]-yields[1]\n",
    "shapes['curvature'] = -yields[1] + 2 * yields[10] - yields[30]"
   ]
  },
  {
   "cell_type": "markdown",
   "id": "28c3f46f",
   "metadata": {},
   "source": [
    "### <span style=\"color:red\">2.2</span>"
   ]
  },
  {
   "cell_type": "markdown",
   "id": "c9698bcb",
   "metadata": {},
   "source": [
    "#### Note: Intercept\n",
    "It makes little difference whether an intercept is included in this regression, and either is defensible. If we standardize the factors, as done at the end, it will make no difference."
   ]
  },
  {
   "cell_type": "code",
   "execution_count": 7,
   "id": "a0596313",
   "metadata": {},
   "outputs": [
    {
     "data": {
      "text/html": [
       "<div>\n",
       "<style scoped>\n",
       "    .dataframe tbody tr th:only-of-type {\n",
       "        vertical-align: middle;\n",
       "    }\n",
       "\n",
       "    .dataframe tbody tr th {\n",
       "        vertical-align: top;\n",
       "    }\n",
       "\n",
       "    .dataframe thead th {\n",
       "        text-align: right;\n",
       "    }\n",
       "</style>\n",
       "<table border=\"1\" class=\"dataframe\">\n",
       "  <thead>\n",
       "    <tr style=\"text-align: right;\">\n",
       "      <th></th>\n",
       "      <th>207391</th>\n",
       "      <th>207392</th>\n",
       "    </tr>\n",
       "  </thead>\n",
       "  <tbody>\n",
       "    <tr>\n",
       "      <th>level</th>\n",
       "      <td>0.069938</td>\n",
       "      <td>0.197983</td>\n",
       "    </tr>\n",
       "    <tr>\n",
       "      <th>slope</th>\n",
       "      <td>0.004759</td>\n",
       "      <td>0.126491</td>\n",
       "    </tr>\n",
       "    <tr>\n",
       "      <th>curvature</th>\n",
       "      <td>0.010926</td>\n",
       "      <td>-0.074870</td>\n",
       "    </tr>\n",
       "  </tbody>\n",
       "</table>\n",
       "</div>"
      ],
      "text/plain": [
       "             207391    207392\n",
       "level      0.069938  0.197983\n",
       "slope      0.004759  0.126491\n",
       "curvature  0.010926 -0.074870"
      ]
     },
     "execution_count": 7,
     "metadata": {},
     "output_type": "execute_result"
    }
   ],
   "source": [
    "from sklearn.linear_model import LinearRegression\n",
    "\n",
    "dp_pct = price.pct_change().dropna()\n",
    "dfac = shapes.diff().dropna()\n",
    "dp_pct, dfac = dp_pct.align(dfac,join='inner',axis=0)\n",
    "\n",
    "factor_durations = pd.DataFrame(-LinearRegression(fit_intercept=True).fit(dfac,dp_pct).coef_.T, columns = dp_pct.columns, index= dfac.columns)\n",
    "factor_durations"
   ]
  },
  {
   "cell_type": "markdown",
   "id": "7b9e02be",
   "metadata": {},
   "source": [
    "### <span style=\"color:red\">2.3.</span>"
   ]
  },
  {
   "cell_type": "markdown",
   "id": "0fa15aa3",
   "metadata": {},
   "source": [
    "#### Comparison to Duration\n",
    "\n",
    "Compare to average duration."
   ]
  },
  {
   "cell_type": "code",
   "execution_count": 8,
   "id": "f5c0838d",
   "metadata": {},
   "outputs": [
    {
     "data": {
      "text/plain": [
       "207391     6.923664\n",
       "207392    19.903216\n",
       "dtype: float64"
      ]
     },
     "execution_count": 8,
     "metadata": {},
     "output_type": "execute_result"
    }
   ],
   "source": [
    "duration.mean()"
   ]
  },
  {
   "cell_type": "markdown",
   "id": "65ff2612",
   "metadata": {},
   "source": [
    "The regression approach gets the right sensitivity on average (across the timeseries). But this unconditional estimate would be a poor guide to the duration at any particular day.\n",
    "\n",
    "Note that the quantiles of the duration over this period range substantially from the average, which is what is estimated in the regression."
   ]
  },
  {
   "cell_type": "code",
   "execution_count": 9,
   "id": "59bad4b5",
   "metadata": {},
   "outputs": [
    {
     "data": {
      "text/html": [
       "<div>\n",
       "<style scoped>\n",
       "    .dataframe tbody tr th:only-of-type {\n",
       "        vertical-align: middle;\n",
       "    }\n",
       "\n",
       "    .dataframe tbody tr th {\n",
       "        vertical-align: top;\n",
       "    }\n",
       "\n",
       "    .dataframe thead th {\n",
       "        text-align: right;\n",
       "    }\n",
       "</style>\n",
       "<table border=\"1\" class=\"dataframe\">\n",
       "  <thead>\n",
       "    <tr style=\"text-align: right;\">\n",
       "      <th></th>\n",
       "      <th>207391</th>\n",
       "      <th>207392</th>\n",
       "    </tr>\n",
       "  </thead>\n",
       "  <tbody>\n",
       "    <tr>\n",
       "      <th>count</th>\n",
       "      <td>1330.000000</td>\n",
       "      <td>1330.000000</td>\n",
       "    </tr>\n",
       "    <tr>\n",
       "      <th>mean</th>\n",
       "      <td>6.923664</td>\n",
       "      <td>19.903216</td>\n",
       "    </tr>\n",
       "    <tr>\n",
       "      <th>std</th>\n",
       "      <td>1.377343</td>\n",
       "      <td>1.741904</td>\n",
       "    </tr>\n",
       "    <tr>\n",
       "      <th>min</th>\n",
       "      <td>4.521627</td>\n",
       "      <td>17.202706</td>\n",
       "    </tr>\n",
       "    <tr>\n",
       "      <th>25%</th>\n",
       "      <td>5.715287</td>\n",
       "      <td>18.171306</td>\n",
       "    </tr>\n",
       "    <tr>\n",
       "      <th>50%</th>\n",
       "      <td>6.942685</td>\n",
       "      <td>20.230206</td>\n",
       "    </tr>\n",
       "    <tr>\n",
       "      <th>75%</th>\n",
       "      <td>8.123490</td>\n",
       "      <td>21.559846</td>\n",
       "    </tr>\n",
       "    <tr>\n",
       "      <th>max</th>\n",
       "      <td>9.289497</td>\n",
       "      <td>22.816390</td>\n",
       "    </tr>\n",
       "  </tbody>\n",
       "</table>\n",
       "</div>"
      ],
      "text/plain": [
       "            207391       207392\n",
       "count  1330.000000  1330.000000\n",
       "mean      6.923664    19.903216\n",
       "std       1.377343     1.741904\n",
       "min       4.521627    17.202706\n",
       "25%       5.715287    18.171306\n",
       "50%       6.942685    20.230206\n",
       "75%       8.123490    21.559846\n",
       "max       9.289497    22.816390"
      ]
     },
     "execution_count": 9,
     "metadata": {},
     "output_type": "execute_result"
    }
   ],
   "source": [
    "duration.describe()"
   ]
  },
  {
   "cell_type": "markdown",
   "id": "3eed184c",
   "metadata": {},
   "source": [
    "### <span style=\"color:red\">Extra:</span>"
   ]
  },
  {
   "cell_type": "markdown",
   "id": "860fd1d6",
   "metadata": {},
   "source": [
    "The way we constructed level, slope, curvature, they may each have very different scalings (magnitudes,) which makes their betas hard to interpret. Easier to normalize them with a z-score, so that the resulting betas can be interpreted as the reaction to a one-sigma move in the factor."
   ]
  },
  {
   "cell_type": "code",
   "execution_count": 10,
   "id": "33a0ea7e",
   "metadata": {},
   "outputs": [
    {
     "data": {
      "text/html": [
       "<div>\n",
       "<style scoped>\n",
       "    .dataframe tbody tr th:only-of-type {\n",
       "        vertical-align: middle;\n",
       "    }\n",
       "\n",
       "    .dataframe tbody tr th {\n",
       "        vertical-align: top;\n",
       "    }\n",
       "\n",
       "    .dataframe thead th {\n",
       "        text-align: right;\n",
       "    }\n",
       "</style>\n",
       "<table border=\"1\" class=\"dataframe\">\n",
       "  <thead>\n",
       "    <tr style=\"text-align: right;\">\n",
       "      <th></th>\n",
       "      <th>207391</th>\n",
       "      <th>207392</th>\n",
       "    </tr>\n",
       "  </thead>\n",
       "  <tbody>\n",
       "    <tr>\n",
       "      <th>level</th>\n",
       "      <td>0.003761</td>\n",
       "      <td>0.010647</td>\n",
       "    </tr>\n",
       "    <tr>\n",
       "      <th>slope</th>\n",
       "      <td>0.000282</td>\n",
       "      <td>0.007504</td>\n",
       "    </tr>\n",
       "    <tr>\n",
       "      <th>curvature</th>\n",
       "      <td>0.000660</td>\n",
       "      <td>-0.004526</td>\n",
       "    </tr>\n",
       "  </tbody>\n",
       "</table>\n",
       "</div>"
      ],
      "text/plain": [
       "             207391    207392\n",
       "level      0.003761  0.010647\n",
       "slope      0.000282  0.007504\n",
       "curvature  0.000660 -0.004526"
      ]
     },
     "execution_count": 10,
     "metadata": {},
     "output_type": "execute_result"
    }
   ],
   "source": [
    "def zscore(df):\n",
    "    z = df.sub(df.mean(axis=0)).div(df.std(axis=0))\n",
    "    return z\n",
    "\n",
    "dz = zscore(dfac)\n",
    "\n",
    "z_durations = pd.DataFrame(-LinearRegression(fit_intercept=True).fit(dz,dp_pct).coef_.T, columns = dp_pct.columns, index= dz.columns)\n",
    "z_durations"
   ]
  },
  {
   "cell_type": "markdown",
   "id": "f1e9e666",
   "metadata": {},
   "source": [
    "***"
   ]
  },
  {
   "cell_type": "markdown",
   "id": "9168eed2",
   "metadata": {},
   "source": [
    "# 3 Calculating Duration Via Individual Cashflows\n",
    "\n",
    "## *Optional, not submitted*"
   ]
  },
  {
   "cell_type": "markdown",
   "id": "432e95d6",
   "metadata": {},
   "source": [
    "Use the data file `../data/treasury_quotes_2024-10-31.xlsx`.\n",
    "\n",
    "### 3.1 \n",
    "Set up the cashflow matrix. \n",
    "\n",
    "### 3.2\n",
    "Extract the Nelson-Siegel spot discount curve, as you did in `Homework 1`.\n",
    "\n",
    "### 3.3\n",
    "For each treasury issue, calculate the duration as the weighted average of the (discounted!) cashflow maturity.\n",
    "\n",
    "Report the summary statistics of the durations. (Use `.describe()` from pandas.)\n",
    "\n",
    "### 3.4\n",
    "How close are your duration estimates to the imputed durations given in the data source?\n",
    "\n",
    "Report the summary statistics of the imputed durations minus your calculated durations from above.\n",
    "\n",
    "### 3.5\n",
    "Continue using your extracted discount rates to calculate the convexity of each issue.\n",
    "\n",
    "Report the summary statistics of these convexity calculations."
   ]
  },
  {
   "cell_type": "markdown",
   "id": "d28e865d",
   "metadata": {},
   "source": [
    "***"
   ]
  },
  {
   "cell_type": "markdown",
   "id": "4a50b147",
   "metadata": {},
   "source": [
    "# <span style=\"color:red\">Solution 3</span>"
   ]
  },
  {
   "cell_type": "code",
   "execution_count": 11,
   "id": "1855ecbf",
   "metadata": {},
   "outputs": [],
   "source": [
    "from fixedinc import *"
   ]
  },
  {
   "cell_type": "markdown",
   "id": "f9706e50",
   "metadata": {},
   "source": [
    "### <span style=\"color:red\">3.1.</span>"
   ]
  },
  {
   "cell_type": "code",
   "execution_count": 12,
   "id": "28ddf0bc",
   "metadata": {},
   "outputs": [],
   "source": [
    "QUOTE_DATE = '2024-10-31'\n",
    "filepath_rawdata = f'../data/treasury_quotes_crsp_{QUOTE_DATE}.xlsx'\n",
    "rawdata = pd.read_excel(filepath_rawdata,sheet_name='quotes')\n",
    "rawdata.columns = rawdata.columns.str.upper()\n",
    "rawdata.sort_values('TMATDT',inplace=True)\n",
    "rawdata.set_index('KYTREASNO',inplace=True)\n",
    "\n",
    "filepath_rawdata = f'../data/treasury_quotes_{QUOTE_DATE}.xlsx'\n",
    "quotes = pd.read_excel(filepath_rawdata,sheet_name='quotes').set_index('KYTREASNO')\n",
    "t_current = quotes['quote date'].values[0]"
   ]
  },
  {
   "cell_type": "code",
   "execution_count": 13,
   "id": "bf837681",
   "metadata": {},
   "outputs": [
    {
     "data": {
      "text/html": [
       "<div>\n",
       "<style scoped>\n",
       "    .dataframe tbody tr th:only-of-type {\n",
       "        vertical-align: middle;\n",
       "    }\n",
       "\n",
       "    .dataframe tbody tr th {\n",
       "        vertical-align: top;\n",
       "    }\n",
       "\n",
       "    .dataframe thead th {\n",
       "        text-align: right;\n",
       "    }\n",
       "</style>\n",
       "<table border=\"1\" class=\"dataframe\">\n",
       "  <thead>\n",
       "    <tr style=\"text-align: right;\">\n",
       "      <th></th>\n",
       "      <th>theta 0</th>\n",
       "      <th>theta 1</th>\n",
       "      <th>theta 2</th>\n",
       "      <th>lambda_1</th>\n",
       "      <th>theta_3</th>\n",
       "      <th>lambda_2</th>\n",
       "    </tr>\n",
       "  </thead>\n",
       "  <tbody>\n",
       "    <tr>\n",
       "      <th>Nelson-Siegel</th>\n",
       "      <td>0.047890</td>\n",
       "      <td>-0.002237</td>\n",
       "      <td>-0.020374</td>\n",
       "      <td>2.126948</td>\n",
       "      <td>None</td>\n",
       "      <td>None</td>\n",
       "    </tr>\n",
       "    <tr>\n",
       "      <th>Nelson-Siegel Extended</th>\n",
       "      <td>0.047856</td>\n",
       "      <td>-0.003927</td>\n",
       "      <td>-0.909713</td>\n",
       "      <td>1.613092</td>\n",
       "      <td>0.892451</td>\n",
       "      <td>1.598478</td>\n",
       "    </tr>\n",
       "  </tbody>\n",
       "</table>\n",
       "</div>"
      ],
      "text/plain": [
       "                         theta 0   theta 1   theta 2  lambda_1   theta_3  \\\n",
       "Nelson-Siegel           0.047890 -0.002237 -0.020374  2.126948      None   \n",
       "Nelson-Siegel Extended  0.047856 -0.003927 -0.909713  1.613092  0.892451   \n",
       "\n",
       "                        lambda_2  \n",
       "Nelson-Siegel               None  \n",
       "Nelson-Siegel Extended  1.598478  "
      ]
     },
     "execution_count": 13,
     "metadata": {},
     "output_type": "execute_result"
    }
   ],
   "source": [
    "RESTRICT_YLD = True\n",
    "RESTRICT_TIPS = True\n",
    "\n",
    "RESTRICT_DTS_MATURING = False\n",
    "RESTRICT_REDUNDANT = False\n",
    "\n",
    "data = filter_treasuries(quotes, t_date=t_current, filter_yld = RESTRICT_YLD, filter_tips = RESTRICT_TIPS, drop_duplicate_maturities=RESTRICT_REDUNDANT)\n",
    "\n",
    "CF = filter_treasury_cashflows(calc_cashflows(data),filter_maturity_dates=RESTRICT_DTS_MATURING)\n",
    "prices = quotes['dirty price'].loc[CF.index]\n",
    "\n",
    "AVG_LEVEL = .045\n",
    "AVG_SLOPE = -.005\n",
    "FIRST_HUMP = .01\n",
    "FIRST_DECAY = 2\n",
    "SECOND_HUMP = -.01\n",
    "SECOND_DECAY = 2\n",
    "\n",
    "x0 = np.array([AVG_LEVEL, AVG_SLOPE, FIRST_HUMP, FIRST_DECAY])\n",
    "params_NS = estimate_rate_curve(nelson_siegel,CF,t_current,prices,x0)\n",
    "\n",
    "x0 = np.concatenate((params_NS,(SECOND_HUMP, SECOND_DECAY)))\n",
    "params_NSE = estimate_rate_curve(nelson_siegel_extended,CF,t_current,prices,x0=x0)\n",
    "\n",
    "tab_params_ns = pd.DataFrame(data = params_NS, index=['theta 0', 'theta 1', 'theta 2', 'lambda_1'],columns=['Nelson-Siegel']).T\n",
    "tab_params_ns.loc[:,['theta_3', 'lambda_2']] = None\n",
    "tab_params_ns.loc['Nelson-Siegel Extended',:] = params_NSE\n",
    "tab_params_ns"
   ]
  },
  {
   "cell_type": "code",
   "execution_count": 14,
   "id": "094a5232",
   "metadata": {},
   "outputs": [
    {
     "name": "stderr",
     "output_type": "stream",
     "text": [
      "/Users/markhendricks/Projects/finm-fixedincome-2025/dev/../cmds/treasury_cmds.py:255: FutureWarning: Series.__getitem__ treating keys as positions is deprecated. In a future version, integer keys will always be treated as labels (consistent with DataFrame behavior). To access a value by position, use `ser.iloc[pos]`\n",
      "  rate = params[0] + (params[1] + params[2]) * (1 - np.exp(-maturity/params[3]))/(maturity/params[3]) - params[2] * np.exp(-maturity/params[3])\n"
     ]
    }
   ],
   "source": [
    "maturity_series = pd.Series(get_maturity_delta(CF.columns.values,t_current=t_current),index=CF.columns)\n",
    "maturity_grid = maturity_series.values\n",
    "curves = pd.DataFrame(index = CF.columns, dtype=float)\n",
    "curves['discount rate'] = compound_rate(nelson_siegel(tab_params_ns.loc['Nelson-Siegel',:],maturity_grid),None,2)\n",
    "curves['discount factor'] = intrate_to_discount(curves['discount rate'],maturity_grid,2)"
   ]
  },
  {
   "cell_type": "markdown",
   "id": "be8258ee",
   "metadata": {},
   "source": [
    "### <span style=\"color:red\">3.2.</span>"
   ]
  },
  {
   "cell_type": "code",
   "execution_count": 15,
   "id": "a41ec2e5",
   "metadata": {},
   "outputs": [
    {
     "data": {
      "image/png": "[encoded data removed]",
      "text/plain": [
       "<Figure size 1000x800 with 2 Axes>"
      ]
     },
     "metadata": {},
     "output_type": "display_data"
    }
   ],
   "source": [
    "fig,ax = plt.subplots(2,1,figsize=(10,8))\n",
    "curves['discount factor'].plot(ax=ax[0],title='discount factor');\n",
    "curves['discount rate'].plot(ax=ax[1],title = 'discount rate');\n",
    "plt.tight_layout()"
   ]
  },
  {
   "cell_type": "markdown",
   "id": "09754e04",
   "metadata": {},
   "source": [
    "### <span style=\"color:red\">3.3.</span>"
   ]
  },
  {
   "cell_type": "code",
   "execution_count": 16,
   "id": "83ca172b",
   "metadata": {},
   "outputs": [],
   "source": [
    "wts = CF.mul(curves['discount factor'],axis=1)\n",
    "wts = wts.div(wts.sum(axis=1),axis=0)\n",
    "duration = (wts @ maturity_series.to_frame()).rename(columns={0:'duration'})"
   ]
  },
  {
   "cell_type": "markdown",
   "id": "fd351f66",
   "metadata": {},
   "source": [
    "### <span style=\"color:red\">3.4.</span>"
   ]
  },
  {
   "cell_type": "code",
   "execution_count": 17,
   "id": "0bdabb28",
   "metadata": {},
   "outputs": [],
   "source": [
    "FREQ = 365.25\n",
    "duration['errors'] = (rawdata['TDDURATN']/FREQ  - duration['duration']).abs()"
   ]
  },
  {
   "cell_type": "markdown",
   "id": "60c0df28",
   "metadata": {},
   "source": [
    "### <span style=\"color:red\">3.5.</span>"
   ]
  },
  {
   "cell_type": "code",
   "execution_count": 18,
   "id": "9dd0c250",
   "metadata": {},
   "outputs": [],
   "source": [
    "duration['convexity'] = wts @ maturity_grid**2"
   ]
  },
  {
   "cell_type": "markdown",
   "id": "440037a0",
   "metadata": {},
   "source": [
    "### <span style=\"color:red\">Display Answers</span>"
   ]
  },
  {
   "cell_type": "code",
   "execution_count": 19,
   "id": "d4700201",
   "metadata": {},
   "outputs": [
    {
     "data": {
      "text/html": [
       "<div>\n",
       "<style scoped>\n",
       "    .dataframe tbody tr th:only-of-type {\n",
       "        vertical-align: middle;\n",
       "    }\n",
       "\n",
       "    .dataframe tbody tr th {\n",
       "        vertical-align: top;\n",
       "    }\n",
       "\n",
       "    .dataframe thead th {\n",
       "        text-align: right;\n",
       "    }\n",
       "</style>\n",
       "<table border=\"1\" class=\"dataframe\">\n",
       "  <thead>\n",
       "    <tr style=\"text-align: right;\">\n",
       "      <th></th>\n",
       "      <th>duration</th>\n",
       "      <th>errors</th>\n",
       "      <th>convexity</th>\n",
       "    </tr>\n",
       "  </thead>\n",
       "  <tbody>\n",
       "    <tr>\n",
       "      <th>count</th>\n",
       "      <td>395.000000</td>\n",
       "      <td>395.000000</td>\n",
       "      <td>395.000000</td>\n",
       "    </tr>\n",
       "    <tr>\n",
       "      <th>mean</th>\n",
       "      <td>4.945647</td>\n",
       "      <td>0.017318</td>\n",
       "      <td>65.508051</td>\n",
       "    </tr>\n",
       "    <tr>\n",
       "      <th>std</th>\n",
       "      <td>5.350579</td>\n",
       "      <td>0.047710</td>\n",
       "      <td>115.053633</td>\n",
       "    </tr>\n",
       "    <tr>\n",
       "      <th>min</th>\n",
       "      <td>0.013689</td>\n",
       "      <td>0.000000</td>\n",
       "      <td>0.000187</td>\n",
       "    </tr>\n",
       "    <tr>\n",
       "      <th>25%</th>\n",
       "      <td>0.910377</td>\n",
       "      <td>0.000003</td>\n",
       "      <td>0.830817</td>\n",
       "    </tr>\n",
       "    <tr>\n",
       "      <th>50%</th>\n",
       "      <td>2.765600</td>\n",
       "      <td>0.000090</td>\n",
       "      <td>7.938260</td>\n",
       "    </tr>\n",
       "    <tr>\n",
       "      <th>75%</th>\n",
       "      <td>6.308805</td>\n",
       "      <td>0.002006</td>\n",
       "      <td>42.099827</td>\n",
       "    </tr>\n",
       "    <tr>\n",
       "      <th>max</th>\n",
       "      <td>19.624963</td>\n",
       "      <td>0.305838</td>\n",
       "      <td>460.697982</td>\n",
       "    </tr>\n",
       "  </tbody>\n",
       "</table>\n",
       "</div>"
      ],
      "text/plain": [
       "         duration      errors   convexity\n",
       "count  395.000000  395.000000  395.000000\n",
       "mean     4.945647    0.017318   65.508051\n",
       "std      5.350579    0.047710  115.053633\n",
       "min      0.013689    0.000000    0.000187\n",
       "25%      0.910377    0.000003    0.830817\n",
       "50%      2.765600    0.000090    7.938260\n",
       "75%      6.308805    0.002006   42.099827\n",
       "max     19.624963    0.305838  460.697982"
      ]
     },
     "execution_count": 19,
     "metadata": {},
     "output_type": "execute_result"
    }
   ],
   "source": [
    "duration.describe()"
   ]
  }
 ],
 "metadata": {
  "hide_input": false,
  "kernelspec": {
   "display_name": "Python 3 (ipykernel)",
   "language": "python",
   "name": "python3"
  },
  "language_info": {
   "codemirror_mode": {
    "name": "ipython",
    "version": 3
   },
   "file_extension": ".py",
   "mimetype": "text/x-python",
   "name": "python",
   "nbconvert_exporter": "python",
   "pygments_lexer": "ipython3",
   "version": "3.9.6"
  }
 },
 "nbformat": 4,
 "nbformat_minor": 5
}

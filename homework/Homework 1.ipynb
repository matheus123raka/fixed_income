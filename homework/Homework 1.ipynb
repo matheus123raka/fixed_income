{
 "cells": [
  {
   "cell_type": "markdown",
   "metadata": {},
   "source": [
    "# Homework 1\n",
    "\n",
    "## FINM 37500: Fixed Income Derivatives\n",
    "\n",
    "### Mark Hendricks\n",
    "\n",
    "#### Winter 2025"
   ]
  },
  {
   "cell_type": "markdown",
   "metadata": {},
   "source": [
    "***"
   ]
  },
  {
   "cell_type": "markdown",
   "metadata": {},
   "source": [
    "# 1. Pricing the Callable Bond"
   ]
  },
  {
   "cell_type": "markdown",
   "metadata": {},
   "source": [
    "### Data\n",
    "\n",
    "Use the data from the following files.\n",
    "* `../data/callable_bonds_2025-02-13.xlsx`\n",
    "* `../data/discount_curve_2025-02-13.xlsx`"
   ]
  },
  {
   "cell_type": "markdown",
   "metadata": {},
   "source": [
    "The data contains info on the following bonds.\n",
    "\n",
    "`Callable`\n",
    "* `FHLMC 4.41 01/28/30` is a callable bond, and it is the primary object of our analysis.\n",
    "\n",
    "`Reference` bonds for a forward price.\n",
    "* `FHLMC 0.97 01/28/28`\n",
    "* `FHLMC 1.25 01/29/30`\n",
    "\n",
    "Though these are technically callable, they are far out of the money. Thus, for the purposes of this analysis, we consider the reference bonds as non-callable bonds.\n",
    "\n",
    "These reference bonds are analyzed in optional problems at the end, but mostly you will focus on the `callable` bond."
   ]
  },
  {
   "cell_type": "code",
   "execution_count": 1,
   "metadata": {},
   "outputs": [],
   "source": [
    "FILE_BOND = '../data/callable_bonds_2025-02-13.xlsx'\n",
    "FILE_CURVE = '../data/discount_curve_2025-02-13.xlsx'\n",
    "\n",
    "KEY_CALLABLE = 'FHLMC 4.41 01/28/30'\n",
    "KEY_REF_T1 = 'FHLMC 0.97 01/28/28'\n",
    "KEY_REF_T2 = 'FHLMC 1 1/4 01/29/30'"
   ]
  },
  {
   "cell_type": "markdown",
   "metadata": {},
   "source": [
    "### Bond Info"
   ]
  },
  {
   "cell_type": "code",
   "execution_count": 2,
   "metadata": {},
   "outputs": [
    {
     "data": {
      "text/html": [
       "<style type=\"text/css\">\n",
       "</style>\n",
       "<table id=\"T_f4445\">\n",
       "  <thead>\n",
       "    <tr>\n",
       "      <th class=\"blank level0\" >&nbsp;</th>\n",
       "      <th id=\"T_f4445_level0_col0\" class=\"col_heading level0 col0\" >FHLMC 0.97 01/28/28</th>\n",
       "      <th id=\"T_f4445_level0_col1\" class=\"col_heading level0 col1\" >FHLMC 1 1/4 01/29/30</th>\n",
       "      <th id=\"T_f4445_level0_col2\" class=\"col_heading level0 col2\" >FHLMC 4.41 01/28/30</th>\n",
       "    </tr>\n",
       "    <tr>\n",
       "      <th class=\"index_name level0\" >info</th>\n",
       "      <th class=\"blank col0\" >&nbsp;</th>\n",
       "      <th class=\"blank col1\" >&nbsp;</th>\n",
       "      <th class=\"blank col2\" >&nbsp;</th>\n",
       "    </tr>\n",
       "  </thead>\n",
       "  <tbody>\n",
       "    <tr>\n",
       "      <th id=\"T_f4445_level0_row0\" class=\"row_heading level0 row0\" >CUSIP</th>\n",
       "      <td id=\"T_f4445_row0_col0\" class=\"data row0 col0\" >3134GW5F9</td>\n",
       "      <td id=\"T_f4445_row0_col1\" class=\"data row0 col1\" >3134GWGK6</td>\n",
       "      <td id=\"T_f4445_row0_col2\" class=\"data row0 col2\" >3134HA4V2</td>\n",
       "    </tr>\n",
       "    <tr>\n",
       "      <th id=\"T_f4445_level0_row1\" class=\"row_heading level0 row1\" >Issuer</th>\n",
       "      <td id=\"T_f4445_row1_col0\" class=\"data row1 col0\" >FREDDIE MAC</td>\n",
       "      <td id=\"T_f4445_row1_col1\" class=\"data row1 col1\" >FREDDIE MAC</td>\n",
       "      <td id=\"T_f4445_row1_col2\" class=\"data row1 col2\" >FREDDIE MAC</td>\n",
       "    </tr>\n",
       "    <tr>\n",
       "      <th id=\"T_f4445_level0_row2\" class=\"row_heading level0 row2\" >Maturity Type</th>\n",
       "      <td id=\"T_f4445_row2_col0\" class=\"data row2 col0\" >CALLABLE</td>\n",
       "      <td id=\"T_f4445_row2_col1\" class=\"data row2 col1\" >CALLABLE</td>\n",
       "      <td id=\"T_f4445_row2_col2\" class=\"data row2 col2\" >CALLABLE</td>\n",
       "    </tr>\n",
       "    <tr>\n",
       "      <th id=\"T_f4445_level0_row3\" class=\"row_heading level0 row3\" >Issuer Industry</th>\n",
       "      <td id=\"T_f4445_row3_col0\" class=\"data row3 col0\" >GOVT AGENCY</td>\n",
       "      <td id=\"T_f4445_row3_col1\" class=\"data row3 col1\" >GOVT AGENCY</td>\n",
       "      <td id=\"T_f4445_row3_col2\" class=\"data row3 col2\" >GOVT AGENCY</td>\n",
       "    </tr>\n",
       "    <tr>\n",
       "      <th id=\"T_f4445_level0_row4\" class=\"row_heading level0 row4\" >Amount Issued</th>\n",
       "      <td id=\"T_f4445_row4_col0\" class=\"data row4 col0\" >30,000,000</td>\n",
       "      <td id=\"T_f4445_row4_col1\" class=\"data row4 col1\" >25,000,000</td>\n",
       "      <td id=\"T_f4445_row4_col2\" class=\"data row4 col2\" >10,000,000</td>\n",
       "    </tr>\n",
       "    <tr>\n",
       "      <th id=\"T_f4445_level0_row5\" class=\"row_heading level0 row5\" >Cpn Rate</th>\n",
       "      <td id=\"T_f4445_row5_col0\" class=\"data row5 col0\" >0.97%</td>\n",
       "      <td id=\"T_f4445_row5_col1\" class=\"data row5 col1\" >1.25%</td>\n",
       "      <td id=\"T_f4445_row5_col2\" class=\"data row5 col2\" >4.41%</td>\n",
       "    </tr>\n",
       "    <tr>\n",
       "      <th id=\"T_f4445_level0_row6\" class=\"row_heading level0 row6\" >Cpn Freq</th>\n",
       "      <td id=\"T_f4445_row6_col0\" class=\"data row6 col0\" >2</td>\n",
       "      <td id=\"T_f4445_row6_col1\" class=\"data row6 col1\" >2</td>\n",
       "      <td id=\"T_f4445_row6_col2\" class=\"data row6 col2\" >2</td>\n",
       "    </tr>\n",
       "    <tr>\n",
       "      <th id=\"T_f4445_level0_row7\" class=\"row_heading level0 row7\" >Date Quoted</th>\n",
       "      <td id=\"T_f4445_row7_col0\" class=\"data row7 col0\" >2025-02-13</td>\n",
       "      <td id=\"T_f4445_row7_col1\" class=\"data row7 col1\" >2025-02-13</td>\n",
       "      <td id=\"T_f4445_row7_col2\" class=\"data row7 col2\" >2025-02-13</td>\n",
       "    </tr>\n",
       "    <tr>\n",
       "      <th id=\"T_f4445_level0_row8\" class=\"row_heading level0 row8\" >Date Issued</th>\n",
       "      <td id=\"T_f4445_row8_col0\" class=\"data row8 col0\" >2020-10-28</td>\n",
       "      <td id=\"T_f4445_row8_col1\" class=\"data row8 col1\" >2020-07-29</td>\n",
       "      <td id=\"T_f4445_row8_col2\" class=\"data row8 col2\" >2025-01-28</td>\n",
       "    </tr>\n",
       "    <tr>\n",
       "      <th id=\"T_f4445_level0_row9\" class=\"row_heading level0 row9\" >Date Matures</th>\n",
       "      <td id=\"T_f4445_row9_col0\" class=\"data row9 col0\" >2028-01-28</td>\n",
       "      <td id=\"T_f4445_row9_col1\" class=\"data row9 col1\" >2030-01-29</td>\n",
       "      <td id=\"T_f4445_row9_col2\" class=\"data row9 col2\" >2030-01-28</td>\n",
       "    </tr>\n",
       "    <tr>\n",
       "      <th id=\"T_f4445_level0_row10\" class=\"row_heading level0 row10\" >Date of First Possible Call</th>\n",
       "      <td id=\"T_f4445_row10_col0\" class=\"data row10 col0\" >2021-01-28 00:00:00</td>\n",
       "      <td id=\"T_f4445_row10_col1\" class=\"data row10 col1\" >2021-01-29 00:00:00</td>\n",
       "      <td id=\"T_f4445_row10_col2\" class=\"data row10 col2\" >2028-01-28 00:00:00</td>\n",
       "    </tr>\n",
       "    <tr>\n",
       "      <th id=\"T_f4445_level0_row11\" class=\"row_heading level0 row11\" >Date Next Call</th>\n",
       "      <td id=\"T_f4445_row11_col0\" class=\"data row11 col0\" >2025-04-28</td>\n",
       "      <td id=\"T_f4445_row11_col1\" class=\"data row11 col1\" >2025-04-29</td>\n",
       "      <td id=\"T_f4445_row11_col2\" class=\"data row11 col2\" >2028-01-28</td>\n",
       "    </tr>\n",
       "    <tr>\n",
       "      <th id=\"T_f4445_level0_row12\" class=\"row_heading level0 row12\" >Strike</th>\n",
       "      <td id=\"T_f4445_row12_col0\" class=\"data row12 col0\" >100</td>\n",
       "      <td id=\"T_f4445_row12_col1\" class=\"data row12 col1\" >100</td>\n",
       "      <td id=\"T_f4445_row12_col2\" class=\"data row12 col2\" >100</td>\n",
       "    </tr>\n",
       "  </tbody>\n",
       "</table>\n"
      ],
      "text/plain": [
       "<pandas.io.formats.style.Styler at 0x15f654830>"
      ]
     },
     "execution_count": 2,
     "metadata": {},
     "output_type": "execute_result"
    }
   ],
   "source": [
    "import pandas as pd\n",
    "\n",
    "info = pd.read_excel(FILE_BOND,sheet_name='info').set_index('info')\n",
    "info.style.format('{:.2%}',subset=pd.IndexSlice[[\"Cpn Rate\"], :]).format('{:,.0f}',subset=pd.IndexSlice[[\"Amount Issued\"], :]).format('{:%Y-%m-%d}',subset=pd.IndexSlice[[\"Date Quoted\",\"Date Issued\",\"Date Matures\",\"Date Next Call\"], :])"
   ]
  },
  {
   "cell_type": "markdown",
   "metadata": {},
   "source": [
    "### Quoted Values"
   ]
  },
  {
   "cell_type": "code",
   "execution_count": 3,
   "metadata": {},
   "outputs": [
    {
     "data": {
      "text/html": [
       "<style type=\"text/css\">\n",
       "</style>\n",
       "<table id=\"T_3ed59\">\n",
       "  <thead>\n",
       "    <tr>\n",
       "      <th class=\"blank level0\" >&nbsp;</th>\n",
       "      <th id=\"T_3ed59_level0_col0\" class=\"col_heading level0 col0\" >FHLMC 0.97 01/28/28</th>\n",
       "      <th id=\"T_3ed59_level0_col1\" class=\"col_heading level0 col1\" >FHLMC 1 1/4 01/29/30</th>\n",
       "      <th id=\"T_3ed59_level0_col2\" class=\"col_heading level0 col2\" >FHLMC 4.41 01/28/30</th>\n",
       "    </tr>\n",
       "    <tr>\n",
       "      <th class=\"index_name level0\" >quotes</th>\n",
       "      <th class=\"blank col0\" >&nbsp;</th>\n",
       "      <th class=\"blank col1\" >&nbsp;</th>\n",
       "      <th class=\"blank col2\" >&nbsp;</th>\n",
       "    </tr>\n",
       "  </thead>\n",
       "  <tbody>\n",
       "    <tr>\n",
       "      <th id=\"T_3ed59_level0_row0\" class=\"row_heading level0 row0\" >Date Quoted</th>\n",
       "      <td id=\"T_3ed59_row0_col0\" class=\"data row0 col0\" >2025-02-13</td>\n",
       "      <td id=\"T_3ed59_row0_col1\" class=\"data row0 col1\" >2025-02-13</td>\n",
       "      <td id=\"T_3ed59_row0_col2\" class=\"data row0 col2\" >2025-02-13</td>\n",
       "    </tr>\n",
       "    <tr>\n",
       "      <th id=\"T_3ed59_level0_row1\" class=\"row_heading level0 row1\" >TTM</th>\n",
       "      <td id=\"T_3ed59_row1_col0\" class=\"data row1 col0\" >2.95</td>\n",
       "      <td id=\"T_3ed59_row1_col1\" class=\"data row1 col1\" >4.96</td>\n",
       "      <td id=\"T_3ed59_row1_col2\" class=\"data row1 col2\" >4.96</td>\n",
       "    </tr>\n",
       "    <tr>\n",
       "      <th id=\"T_3ed59_level0_row2\" class=\"row_heading level0 row2\" >Clean Price</th>\n",
       "      <td id=\"T_3ed59_row2_col0\" class=\"data row2 col0\" >90.14</td>\n",
       "      <td id=\"T_3ed59_row2_col1\" class=\"data row2 col1\" >85.11</td>\n",
       "      <td id=\"T_3ed59_row2_col2\" class=\"data row2 col2\" >99.89</td>\n",
       "    </tr>\n",
       "    <tr>\n",
       "      <th id=\"T_3ed59_level0_row3\" class=\"row_heading level0 row3\" >Dirty Price</th>\n",
       "      <td id=\"T_3ed59_row3_col0\" class=\"data row3 col0\" >90.19</td>\n",
       "      <td id=\"T_3ed59_row3_col1\" class=\"data row3 col1\" >85.16</td>\n",
       "      <td id=\"T_3ed59_row3_col2\" class=\"data row3 col2\" >100.09</td>\n",
       "    </tr>\n",
       "    <tr>\n",
       "      <th id=\"T_3ed59_level0_row4\" class=\"row_heading level0 row4\" >Accrued Interest</th>\n",
       "      <td id=\"T_3ed59_row4_col0\" class=\"data row4 col0\" >0.04</td>\n",
       "      <td id=\"T_3ed59_row4_col1\" class=\"data row4 col1\" >0.05</td>\n",
       "      <td id=\"T_3ed59_row4_col2\" class=\"data row4 col2\" >0.20</td>\n",
       "    </tr>\n",
       "    <tr>\n",
       "      <th id=\"T_3ed59_level0_row5\" class=\"row_heading level0 row5\" >YTM Call</th>\n",
       "      <td id=\"T_3ed59_row5_col0\" class=\"data row5 col0\" >54.24</td>\n",
       "      <td id=\"T_3ed59_row5_col1\" class=\"data row5 col1\" >85.40</td>\n",
       "      <td id=\"T_3ed59_row5_col2\" class=\"data row5 col2\" >4.45</td>\n",
       "    </tr>\n",
       "    <tr>\n",
       "      <th id=\"T_3ed59_level0_row6\" class=\"row_heading level0 row6\" >YTM Maturity</th>\n",
       "      <td id=\"T_3ed59_row6_col0\" class=\"data row6 col0\" >4.57</td>\n",
       "      <td id=\"T_3ed59_row6_col1\" class=\"data row6 col1\" >4.65</td>\n",
       "      <td id=\"T_3ed59_row6_col2\" class=\"data row6 col2\" >4.43</td>\n",
       "    </tr>\n",
       "    <tr>\n",
       "      <th id=\"T_3ed59_level0_row7\" class=\"row_heading level0 row7\" >Duration</th>\n",
       "      <td id=\"T_3ed59_row7_col0\" class=\"data row7 col0\" >2.92</td>\n",
       "      <td id=\"T_3ed59_row7_col1\" class=\"data row7 col1\" >4.81</td>\n",
       "      <td id=\"T_3ed59_row7_col2\" class=\"data row7 col2\" >4.50</td>\n",
       "    </tr>\n",
       "    <tr>\n",
       "      <th id=\"T_3ed59_level0_row8\" class=\"row_heading level0 row8\" >Modified Duration</th>\n",
       "      <td id=\"T_3ed59_row8_col0\" class=\"data row8 col0\" >2.85</td>\n",
       "      <td id=\"T_3ed59_row8_col1\" class=\"data row8 col1\" >4.70</td>\n",
       "      <td id=\"T_3ed59_row8_col2\" class=\"data row8 col2\" >4.40</td>\n",
       "    </tr>\n",
       "    <tr>\n",
       "      <th id=\"T_3ed59_level0_row9\" class=\"row_heading level0 row9\" >Convexity</th>\n",
       "      <td id=\"T_3ed59_row9_col0\" class=\"data row9 col0\" >0.10</td>\n",
       "      <td id=\"T_3ed59_row9_col1\" class=\"data row9 col1\" >0.25</td>\n",
       "      <td id=\"T_3ed59_row9_col2\" class=\"data row9 col2\" >0.23</td>\n",
       "    </tr>\n",
       "    <tr>\n",
       "      <th id=\"T_3ed59_level0_row10\" class=\"row_heading level0 row10\" >Treasury YLD Spread</th>\n",
       "      <td id=\"T_3ed59_row10_col0\" class=\"data row10 col0\" >25.14</td>\n",
       "      <td id=\"T_3ed59_row10_col1\" class=\"data row10 col1\" >26.01</td>\n",
       "      <td id=\"T_3ed59_row10_col2\" class=\"data row10 col2\" >4.71</td>\n",
       "    </tr>\n",
       "    <tr>\n",
       "      <th id=\"T_3ed59_level0_row11\" class=\"row_heading level0 row11\" >OAS Spread</th>\n",
       "      <td id=\"T_3ed59_row11_col0\" class=\"data row11 col0\" >25.83</td>\n",
       "      <td id=\"T_3ed59_row11_col1\" class=\"data row11 col1\" >25.97</td>\n",
       "      <td id=\"T_3ed59_row11_col2\" class=\"data row11 col2\" >-26.77</td>\n",
       "    </tr>\n",
       "    <tr>\n",
       "      <th id=\"T_3ed59_level0_row12\" class=\"row_heading level0 row12\" >Implied Vol</th>\n",
       "      <td id=\"T_3ed59_row12_col0\" class=\"data row12 col0\" >19.60</td>\n",
       "      <td id=\"T_3ed59_row12_col1\" class=\"data row12 col1\" >21.09</td>\n",
       "      <td id=\"T_3ed59_row12_col2\" class=\"data row12 col2\" >23.88</td>\n",
       "    </tr>\n",
       "  </tbody>\n",
       "</table>\n"
      ],
      "text/plain": [
       "<pandas.io.formats.style.Styler at 0x15e63c2d0>"
      ]
     },
     "execution_count": 3,
     "metadata": {},
     "output_type": "execute_result"
    }
   ],
   "source": [
    "quotes = pd.read_excel(FILE_BOND,sheet_name='quotes').set_index('quotes')\n",
    "quotes.style.format('{:.2f}', subset=pd.IndexSlice[quotes.index[1:], :]).format('{:%Y-%m-%d}', subset=pd.IndexSlice['Date Quoted', :])"
   ]
  },
  {
   "cell_type": "markdown",
   "metadata": {},
   "source": [
    "### Discount Curves"
   ]
  },
  {
   "cell_type": "code",
   "execution_count": 4,
   "metadata": {},
   "outputs": [
    {
     "data": {
      "text/html": [
       "<div>\n",
       "<style scoped>\n",
       "    .dataframe tbody tr th:only-of-type {\n",
       "        vertical-align: middle;\n",
       "    }\n",
       "\n",
       "    .dataframe tbody tr th {\n",
       "        vertical-align: top;\n",
       "    }\n",
       "\n",
       "    .dataframe thead th {\n",
       "        text-align: right;\n",
       "    }\n",
       "</style>\n",
       "<table border=\"1\" class=\"dataframe\">\n",
       "  <thead>\n",
       "    <tr style=\"text-align: right;\">\n",
       "      <th></th>\n",
       "      <th>maturity date</th>\n",
       "      <th>spot rate</th>\n",
       "      <th>discount</th>\n",
       "    </tr>\n",
       "    <tr>\n",
       "      <th>ttm</th>\n",
       "      <th></th>\n",
       "      <th></th>\n",
       "      <th></th>\n",
       "    </tr>\n",
       "  </thead>\n",
       "  <tbody>\n",
       "    <tr>\n",
       "      <th>0.5</th>\n",
       "      <td>2025-08-13</td>\n",
       "      <td>0.043743</td>\n",
       "      <td>0.978597</td>\n",
       "    </tr>\n",
       "    <tr>\n",
       "      <th>1.0</th>\n",
       "      <td>2026-02-13</td>\n",
       "      <td>0.042890</td>\n",
       "      <td>0.958451</td>\n",
       "    </tr>\n",
       "    <tr>\n",
       "      <th>1.5</th>\n",
       "      <td>2026-08-13</td>\n",
       "      <td>0.042238</td>\n",
       "      <td>0.939228</td>\n",
       "    </tr>\n",
       "    <tr>\n",
       "      <th>2.0</th>\n",
       "      <td>2027-02-13</td>\n",
       "      <td>0.041843</td>\n",
       "      <td>0.920515</td>\n",
       "    </tr>\n",
       "    <tr>\n",
       "      <th>2.5</th>\n",
       "      <td>2027-08-13</td>\n",
       "      <td>0.041632</td>\n",
       "      <td>0.902117</td>\n",
       "    </tr>\n",
       "  </tbody>\n",
       "</table>\n",
       "</div>"
      ],
      "text/plain": [
       "    maturity date  spot rate  discount\n",
       "ttm                                   \n",
       "0.5    2025-08-13   0.043743  0.978597\n",
       "1.0    2026-02-13   0.042890  0.958451\n",
       "1.5    2026-08-13   0.042238  0.939228\n",
       "2.0    2027-02-13   0.041843  0.920515\n",
       "2.5    2027-08-13   0.041632  0.902117"
      ]
     },
     "metadata": {},
     "output_type": "display_data"
    },
    {
     "data": {
      "text/html": [
       "<div>\n",
       "<style scoped>\n",
       "    .dataframe tbody tr th:only-of-type {\n",
       "        vertical-align: middle;\n",
       "    }\n",
       "\n",
       "    .dataframe tbody tr th {\n",
       "        vertical-align: top;\n",
       "    }\n",
       "\n",
       "    .dataframe thead th {\n",
       "        text-align: right;\n",
       "    }\n",
       "</style>\n",
       "<table border=\"1\" class=\"dataframe\">\n",
       "  <thead>\n",
       "    <tr style=\"text-align: right;\">\n",
       "      <th></th>\n",
       "      <th>maturity date</th>\n",
       "      <th>spot rate</th>\n",
       "      <th>discount</th>\n",
       "    </tr>\n",
       "    <tr>\n",
       "      <th>ttm</th>\n",
       "      <th></th>\n",
       "      <th></th>\n",
       "      <th></th>\n",
       "    </tr>\n",
       "  </thead>\n",
       "  <tbody>\n",
       "    <tr>\n",
       "      <th>28.0</th>\n",
       "      <td>2053-02-13</td>\n",
       "      <td>0.040185</td>\n",
       "      <td>0.328231</td>\n",
       "    </tr>\n",
       "    <tr>\n",
       "      <th>28.5</th>\n",
       "      <td>2053-08-13</td>\n",
       "      <td>0.040051</td>\n",
       "      <td>0.322978</td>\n",
       "    </tr>\n",
       "    <tr>\n",
       "      <th>29.0</th>\n",
       "      <td>2054-02-13</td>\n",
       "      <td>0.039916</td>\n",
       "      <td>0.317851</td>\n",
       "    </tr>\n",
       "    <tr>\n",
       "      <th>29.5</th>\n",
       "      <td>2054-08-13</td>\n",
       "      <td>0.039791</td>\n",
       "      <td>0.312766</td>\n",
       "    </tr>\n",
       "    <tr>\n",
       "      <th>30.0</th>\n",
       "      <td>2055-02-13</td>\n",
       "      <td>0.039665</td>\n",
       "      <td>0.307802</td>\n",
       "    </tr>\n",
       "  </tbody>\n",
       "</table>\n",
       "</div>"
      ],
      "text/plain": [
       "     maturity date  spot rate  discount\n",
       "ttm                                    \n",
       "28.0    2053-02-13   0.040185  0.328231\n",
       "28.5    2053-08-13   0.040051  0.322978\n",
       "29.0    2054-02-13   0.039916  0.317851\n",
       "29.5    2054-08-13   0.039791  0.312766\n",
       "30.0    2055-02-13   0.039665  0.307802"
      ]
     },
     "metadata": {},
     "output_type": "display_data"
    }
   ],
   "source": [
    "discs = pd.read_excel(FILE_CURVE,sheet_name='discount curve').set_index('ttm')\n",
    "display(discs.head())\n",
    "display(discs.tail())"
   ]
  },
  {
   "cell_type": "markdown",
   "metadata": {},
   "source": [
    "***"
   ]
  },
  {
   "cell_type": "markdown",
   "metadata": {},
   "source": [
    "### 1.1.\n",
    "\n",
    "Use the discount curve data to price both the `callable` and `reference` bonds.\n",
    "\n",
    "For now, calculate the price of the `callable` bond as if it were non-callable. We refer to this as the `hypothetical` bond."
   ]
  },
  {
   "cell_type": "markdown",
   "metadata": {},
   "source": [
    "### 1.2.\n",
    "\n",
    "Calculate the forward price of the `hypothetical` bond as of the date that the `callable` bond can be exercised.\n",
    "\n",
    "Use the information from the discount curve (and associated forward curve) to calculate this forward price."
   ]
  },
  {
   "cell_type": "markdown",
   "metadata": {},
   "source": [
    "### 1.3.\n",
    "\n",
    "The provided implied vol corresponds to the implied vol of the **rate**. Specifically,\n",
    "* the forward rate corresponding to the time of expiration.\n",
    "* continuously compounded.\n",
    "\n",
    "Use the duration approximation to get the approximate implied vol corresponding to the forward price.\n",
    "\n",
    "$$\\sigma_{\\text{bond fwd price}} \\approx D \\times \\sigma_{\\text{fwd rate}}\\times f(T_1)$$\n",
    "\n",
    "where $f(T_1)$ is the continuously-compounded (instantaneous) forward rate at time $T_1$.\n",
    "* If you're struggling with the forward rate calc, just usse the provided spot rate at $T_1$; it will be a close approximation in this example.\n",
    "* In this approximation, use the quoted duration from the table. (Yes, this is a bit circular, but we don't want to get bogged down with a duration calculation at this point.)\n",
    "\n",
    "Report the implied vol of the bond's forward price."
   ]
  },
  {
   "cell_type": "markdown",
   "metadata": {},
   "source": [
    "### 1.4.\n",
    "\n",
    "For the `callable` bond, report Black's value of the embedded call option.\n",
    "* Use this to report the value of the `callable` bond.\n",
    "* How does it compare to the actual market price?\n",
    "\n",
    "For the calculation of the option, use...\n",
    "* the quoted `Implied Vol` calculated above.\n",
    "* forward price of the `hypothetical` bond calculated above.\n",
    "* provided discount factor\n",
    "\n",
    "#### Simplifications\n",
    "Note that in this calculation we are making a few simplifications.\n",
    "* We are simplifying that the `callable` bond is European exercise with an exercise date as reported in `Date Next Call` above. \n",
    "* In reality, it is Bermudan, with quarterly exercise dates after the first exercise date.\n",
    "* The time-to-exercise is not a round number, but you only have discount factors at rounded time-to-maturities. Just use the closest discount factor."
   ]
  },
  {
   "cell_type": "markdown",
   "metadata": {},
   "source": [
    "### 1.5.\n",
    "\n",
    "Calculate the YTM of the callable bond, assuming that...\n",
    "* it can never be called. (This is the `hypothetical` bond we analyzed above.)\n",
    "* it will certainly be called.\n",
    "\n",
    "How do these compare to the quoted YTM Called and YTM Maturity in the table?"
   ]
  },
  {
   "cell_type": "markdown",
   "metadata": {},
   "source": [
    "### 1.6.\n",
    "\n",
    "Calculate the duration of...\n",
    "* the `hypothetical` bond\n",
    "* the `callable` bond\n",
    "\n",
    "How do these compare to the quoted duration in the table?\n",
    "\n",
    "For the callable bond, calculate duration numerically by modifying the spot rates up and down by 1bp and seeing how it changes the valuation of parts `1.1`-`1.3`."
   ]
  },
  {
   "cell_type": "markdown",
   "metadata": {},
   "source": [
    "### 1.7.\n",
    "\n",
    "Calculate the OAS of the `callable` bond.\n",
    "\n",
    "How does it compare to the quoted OAS?\n",
    "\n",
    "Recall that the OAS is the parallel shift in the spot curve needed to align the modeled value to the market quote."
   ]
  },
  {
   "cell_type": "markdown",
   "metadata": {},
   "source": [
    "### 1.8. Optional\n",
    "\n",
    "Calculate the forward price of the `hypothetical` bond, but try doing so by using the `reference` bonds to calculate the forward price.\n",
    "* The prices of these reference bonds would be discount factors, and we simply take the ratio.\n",
    "* However, the coupons of the bonds do not align, so you need to adjust for this fact."
   ]
  },
  {
   "cell_type": "markdown",
   "metadata": {},
   "source": [
    "### 1.9. Optional\n",
    "\n",
    "Analyze what we have called the `reference` bonds as `callable` bonds. \n",
    "\n",
    "Calculate its value, YTMs, duration, and OAS."
   ]
  },
  {
   "cell_type": "markdown",
   "metadata": {},
   "source": [
    "***"
   ]
  },
  {
   "cell_type": "markdown",
   "metadata": {},
   "source": [
    "# 2. Pricing Floors"
   ]
  },
  {
   "cell_type": "markdown",
   "metadata": {},
   "source": [
    "### Data\n",
    "\n",
    "The file `data/cap_curves_2025-01-31.xlsx` has market data on the following curves:\n",
    "* swap rates (SOFR)\n",
    "* discount factors\n",
    "* forward rates \n",
    "* flat volatilites\n",
    "\n",
    "A few details\n",
    "* the swap and forward rates are quarterly compounded.\n",
    "* the flat volatilites are (Black) quotes on caps containing caplets ranging from expiration of $\\tau=.5$ to $\\tau=T$."
   ]
  },
  {
   "cell_type": "markdown",
   "metadata": {},
   "source": [
    "### 2.1.\n",
    "\n",
    "Recall that a floor is a portfolio of floorlets which\n",
    "* depend on the realized interest rate one quarter before the expiration.\n",
    "* each have the same strike interest rate.\n",
    "\n",
    "Use Black's formula to price **just one floorlet**\n",
    "* expiring at `T=3`\n",
    "* struck at the `T=3` swap rate\n",
    "* notional of `100`\n",
    "* quarterly frequency"
   ]
  },
  {
   "cell_type": "markdown",
   "metadata": {},
   "source": [
    "### 2.2.\n",
    "\n",
    "Use Black's formula to price the entire floor with expiration of `T=3`.\n",
    "\n",
    "The floor has floorlets at `quarterly` frequency, except the first quarter."
   ]
  },
  {
   "cell_type": "markdown",
   "metadata": {},
   "source": [
    "***"
   ]
  },
  {
   "cell_type": "markdown",
   "metadata": {},
   "source": [
    "# 3. Stripping Caps"
   ]
  },
  {
   "cell_type": "markdown",
   "metadata": {},
   "source": [
    "### Data\n",
    "\n",
    "Continue with the file `data/cap_curves_2025-01-31.xlsx`."
   ]
  },
  {
   "cell_type": "markdown",
   "metadata": {},
   "source": [
    "### 3.1 Cap Prices\n",
    "\n",
    "For each cap maturity, $.5\\le T \\le 10$, use the flat volatility to get the price of the cap.\n",
    "\n",
    "Report the cap prices across expirations, $.5\\le T \\le 10$.\n",
    "\n",
    "Plot the cap prices across expirations."
   ]
  },
  {
   "cell_type": "markdown",
   "metadata": {},
   "source": [
    "### 3.2 Caplet Prices and Forward Volatilities\n",
    "\n",
    "Using the cap prices, strip out the\n",
    "* caplet prices\n",
    "* forward volatility at $\\tau$ which properly prices caplet $\\tau$ using Black's formula.\n",
    "\n",
    "List and plot the forward volatility versus the flat volatiltiy."
   ]
  },
  {
   "cell_type": "markdown",
   "metadata": {},
   "source": [
    "***"
   ]
  }
 ],
 "metadata": {
  "kernelspec": {
   "display_name": "venv",
   "language": "python",
   "name": "python3"
  },
  "language_info": {
   "codemirror_mode": {
    "name": "ipython",
    "version": 3
   },
   "file_extension": ".py",
   "mimetype": "text/x-python",
   "name": "python",
   "nbconvert_exporter": "python",
   "pygments_lexer": "ipython3",
   "version": "3.13.1"
  }
 },
 "nbformat": 4,
 "nbformat_minor": 2
}

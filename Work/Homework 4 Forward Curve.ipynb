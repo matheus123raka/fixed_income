{
 "cells": [
  {
   "cell_type": "markdown",
   "id": "7e655bd1",
   "metadata": {},
   "source": [
    "# Homework 4\n",
    "\n",
    "## FINM 37400 - 2025\n",
    "\n",
    "### UChicago Financial Mathematics\n",
    "\n",
    "* Mark Hendricks\n",
    "* hendricks@uchicago.edu"
   ]
  },
  {
   "cell_type": "markdown",
   "id": "32941020",
   "metadata": {},
   "source": [
    "***"
   ]
  },
  {
   "cell_type": "markdown",
   "id": "7189eb0e",
   "metadata": {},
   "source": [
    "# 1 HBS Case: The Information Content of the Yield Curve"
   ]
  },
  {
   "cell_type": "markdown",
   "id": "a062f40d",
   "metadata": {},
   "source": [
    "## 1.1\n",
    "\n",
    "The Term Spread\n",
    "* What is the term spread? \n",
    "* What is the preferred measure of the term spread in the case?\n",
    "* What evidence is cited for the term spread's power in predicting recessions?\n",
    "* Which is more important, the level of the term spread, its month-over-month change, or the level of short rates?\n",
    "\n",
    "Using the file `yields.xlsx`, calculate the term spread at the end of the sample.\n",
    "* What does this term spread suggest about economic growth, according to the evidence of Estrella?\n",
    "\n",
    "## 1.2\n",
    "\n",
    "Term premia\n",
    "* What is the term premium? Why is it impossible to get a direct measure of it?\n",
    "* Explain equations (1) and (2). Why does Sacks think this concept of the term spread complicates the relationship found by Estrella?\n",
    "\n",
    "## 1.3\n",
    "\n",
    "Though this case touches on monetary policy, that is not our focus. Rather, our focus is the degree to which the current shape of the yield curve is predictive of future short-term interest rates.\n",
    "\n",
    "Suppose the term premium is zero. \n",
    "* What does a downward-sloping yield curve predict about future short-term rates? \n",
    "* In this case, is it risky to hold long-term bonds or short-term bonds? Is this risk compensated?\n",
    "\n",
    "Suppose the term premium increases 5 percentage points.\n",
    "* What would change about your previous answer?"
   ]
  },
  {
   "cell_type": "markdown",
   "id": "f114c7f6",
   "metadata": {},
   "source": [
    "***"
   ]
  },
  {
   "cell_type": "markdown",
   "id": "09b12a1a",
   "metadata": {},
   "source": [
    "# 2 Forward Curve from the Spot Curve"
   ]
  },
  {
   "cell_type": "markdown",
   "id": "da4638e8",
   "metadata": {},
   "source": [
    "Use the data in `'../data/treasury_quotes_2024-10-31.xlsx`, focusing on the selected data found in the sheet `selected quotes`."
   ]
  },
  {
   "cell_type": "markdown",
   "id": "6c5d5768",
   "metadata": {},
   "source": [
    "### 2.1 \n",
    "Bootstrap the discount factor. \n",
    "\n",
    "Plot the answer in terms of discount factors and discount rates.\n",
    "\n",
    "Though the time-to-maturity (ttm) is not spaced exactly at 6 months, for the purposes of this problem, you are welcome to approximate that they are spaced at exact 6-month intervals.\n",
    "\n",
    "\n",
    "### 2.2\n",
    "Calculate and plot the forward discount factors from $T$ to $T+0.5$, ranging $T$ from 0.5 through 6.5.\n",
    "\n",
    "\n",
    "### 2.3\n",
    "Use the forward discount factors to calculate the `semiannually` compounded forward **rates**.\n",
    "\n",
    "Plot the curve.\n",
    "\n",
    "#### 2.4\n",
    "\n",
    "Specifically report the forward-rate values from \n",
    "\n",
    "* $T_1=0.5$ to $T_2=1$.\n",
    "* $T_1=3.5$ to $T_2=4$."
   ]
  },
  {
   "cell_type": "markdown",
   "id": "b826f2ed",
   "metadata": {},
   "source": [
    "***"
   ]
  },
  {
   "cell_type": "markdown",
   "id": "53593ba8",
   "metadata": {},
   "source": [
    "# 3. Forward Discount Factors, Forward Rates, and Evolving Spot Rates"
   ]
  },
  {
   "cell_type": "markdown",
   "id": "02ce8e3d",
   "metadata": {},
   "source": [
    "Use the data set `famabliss_strips_2024-12-31.xlsx`.\n",
    "\n",
    "It gives prices on **zero coupon bonds** with maturities of 1 through 5 years.\n",
    "* These are prices per $1 face value on bonds that only pay principal.\n",
    "* Such bonds can be created from treasuries by stripping out their coupons.\n",
    "* In essence, you can consider these prices as the discount factors $Z$, for maturity intervals 1 through 5 years.\n",
    "\n",
    "In this problem, we focus on six dates: the month of `December` in `2020` through `2024`."
   ]
  },
  {
   "cell_type": "markdown",
   "id": "eea1a0ca",
   "metadata": {},
   "source": [
    "### 3.1\n",
    "\n",
    "For each of the dates, (`Dec 2020`, ..., `Dec 2024`), calculate the forward discount factor, $F(t,T_1,T_2)$, where $T_2 = T_1 + 1$ for $1\\le T_1\\le 4$.\n",
    "\n",
    "Make a plot of the curve $F$ at each of these six dates."
   ]
  },
  {
   "cell_type": "markdown",
   "id": "a58c58aa",
   "metadata": {},
   "source": [
    "### 3.2\n",
    "\n"
   ]
  },
  {
   "cell_type": "markdown",
   "id": "085ba139",
   "metadata": {},
   "source": [
    "Use $F$ above to calculate the continuously compounded forward rates, $f$, on each date.\n",
    "\n",
    "Make a plot of the curve, $f$, at each of these dates."
   ]
  },
  {
   "cell_type": "markdown",
   "id": "97abe40d",
   "metadata": {},
   "source": [
    "### 3.3\n",
    "\n",
    "Calculate the continuously compounded spot rates, $r$, at these dates.\n",
    "\n",
    "Plot both the forward curve and the spot curve on the date of `Dec 2020`.\n",
    "\n",
    "Recall that $f(t,t,t+1) = r(t,t+1)$."
   ]
  },
  {
   "cell_type": "markdown",
   "id": "8e3ba4d0",
   "metadata": {},
   "source": [
    "### 3.4\n",
    "\n",
    "Plot the forward curve on `Dec 2020` against the time-series evolution of $r(t,t+1)$ for dates $t$ between `Dec 2020` and `Dec 2024`.\n",
    "\n",
    "How does the evolution of one-year rates between `2020-2024` compare to the forward rates of `2020`?"
   ]
  },
  {
   "cell_type": "markdown",
   "id": "a876093f",
   "metadata": {},
   "source": [
    "***"
   ]
  }
 ],
 "metadata": {
  "hide_input": false,
  "kernelspec": {
   "display_name": "Python 3 (ipykernel)",
   "language": "python",
   "name": "python3"
  },
  "language_info": {
   "codemirror_mode": {
    "name": "ipython",
    "version": 3
   },
   "file_extension": ".py",
   "mimetype": "text/x-python",
   "name": "python",
   "nbconvert_exporter": "python",
   "pygments_lexer": "ipython3",
   "version": "3.9.6"
  }
 },
 "nbformat": 4,
 "nbformat_minor": 5
}

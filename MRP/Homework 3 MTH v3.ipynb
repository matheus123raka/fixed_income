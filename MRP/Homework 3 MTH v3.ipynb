{
 "cells": [
  {
   "cell_type": "markdown",
   "id": "bac929b8",
   "metadata": {},
   "source": [
    "# Homework 3\n",
    "\n",
    "## FINM 37400 - 2025\n",
    "\n",
    "### UChicago Financial Mathematics\n",
    "\n",
    "### HW Group B 18\n",
    "* Matheus Raka Pradnyatama\n",
    "* Jacob Simeral"
   ]
  },
  {
   "cell_type": "code",
   "execution_count": 38,
   "id": "69b864bf",
   "metadata": {},
   "outputs": [],
   "source": [
    "import pandas as pd\n",
    "import numpy as np\n",
    "import datetime\n",
    "import holidays\n",
    "import seaborn as sns\n",
    "\n",
    "import matplotlib.pyplot as plt\n",
    "import matplotlib.dates as mdates\n",
    "\n",
    "from sklearn.linear_model import LinearRegression\n",
    "\n",
    "from scipy.optimize import minimize\n",
    "from scipy import interpolate\n",
    "\n",
    "from pandas.tseries.holiday import USFederalHolidayCalendar\n",
    "from pandas.tseries.offsets import CustomBusinessDay\n",
    "# The code here is written with the help of OpenAI's ChatGPT."
   ]
  },
  {
   "cell_type": "code",
   "execution_count": 39,
   "id": "cbc1b96f",
   "metadata": {},
   "outputs": [],
   "source": [
    "def price_treasury_ytm(yield_to_maturity, coupon_rate, face_value, time_to_maturity, payments_per_year=2):\n",
    "    \"\"\"\n",
    "    Prices a Treasury bond based on its yield to maturity, coupon rate, face value, and time to maturity.\n",
    "\n",
    "    Parameters:\n",
    "        yield_to_maturity (float): The annual yield to maturity (as a decimal, e.g., 0.03 for 3%).\n",
    "        coupon_rate (float): The annual coupon rate (as a decimal, e.g., 0.02 for 2%).\n",
    "        face_value (float): The face value (par value) of the bond.\n",
    "        time_to_maturity (float): The time to maturity of the bond in years.\n",
    "        payments_per_year (int): The number of coupon payments per year (default is 2 for semi-annual payments).\n",
    "\n",
    "    Returns:\n",
    "        float: The price of the Treasury bond.\n",
    "    \"\"\"\n",
    "    # Calculate the coupon payment per period\n",
    "    coupon_payment = coupon_rate * face_value / payments_per_year\n",
    "\n",
    "    # Total number of periods\n",
    "    total_periods = int(time_to_maturity * payments_per_year)\n",
    "\n",
    "    # Periodic yield to maturity\n",
    "    periodic_yield = yield_to_maturity / payments_per_year\n",
    "\n",
    "    # Price calculation: Sum of discounted coupon payments + discounted face value\n",
    "    price = 0\n",
    "\n",
    "    for t in range(1, total_periods + 1):\n",
    "        price += coupon_payment / (1 + periodic_yield) ** t\n",
    "\n",
    "    # Add the present value of the face value (paid at maturity)\n",
    "    price += face_value / (1 + periodic_yield) ** total_periods\n",
    "\n",
    "    return price"
   ]
  },
  {
   "cell_type": "code",
   "execution_count": 40,
   "id": "c0fadfb7",
   "metadata": {},
   "outputs": [],
   "source": [
    "# Duration for a fixed rate bond\n",
    "# freq = frequency of compounding in a year\n",
    "# tau = years-to-maturity\n",
    "\n",
    "def duration_closed_formula(tau, ytm, coupon_rate=None, freq=2):\n",
    "\n",
    "    if coupon_rate is None:\n",
    "        coupon_rate = ytm\n",
    "        \n",
    "    # y_tilde = ytm/frequency\n",
    "    y = ytm/freq\n",
    "    # c_tilde = coupon rate/ frequency\n",
    "    c = coupon_rate/freq\n",
    "    # tau_tilde= tau * frequency\n",
    "    T = tau * freq\n",
    "        \n",
    "    if coupon_rate==ytm:\n",
    "        duration = (1+y)/y  * (1 - 1/(1+y)**T)\n",
    "        \n",
    "    else:\n",
    "        duration = (1+y)/y - (1+y+T*(c-y)) / (c*((1+y)**T-1)+y)\n",
    "\n",
    "    duration /= freq\n",
    "    \n",
    "    return duration\n"
   ]
  },
  {
   "cell_type": "markdown",
   "id": "7b03c2b8",
   "metadata": {},
   "source": [
    "***"
   ]
  },
  {
   "cell_type": "markdown",
   "id": "42647704",
   "metadata": {},
   "source": [
    "# 1 HBS Case: Fixed-Income Arbitrage in a Financial Crisis (C): Spread and Swap Spread in November 2008"
   ]
  },
  {
   "cell_type": "markdown",
   "id": "20d04ae8",
   "metadata": {},
   "source": [
    "## Simplification of the setup\n",
    "\n",
    "The date is Nov 4, 2008.\n",
    "\n",
    "**Treasury bond**\n",
    "* Suppose the Treasury bond matures exactly 30 years later, on Nov 4, 2038 rather than May 15, 2008. \n",
    "* The YTM of this freshly issued treasury is 4.193\\% with a semiannual coupon of 4.50\\%, same as is given in the case. (So we're just changing the maturity date to simplify things, but keeping the market data.)\n",
    "\n",
    "**Swap**\n",
    "* The fixed leg of the swap pays semiannually, with swap rate of 4.2560\\%, as given in the case.\n",
    "* The floating leg of the swap also pays semiannually--not quarterly--such that the payment dates are identical on both legs. Thus, it also resets the floating rate semiannually, not quarterly.\n",
    "* The floating rate of the swap equals the repo rate used in the trade. Thus, these two rates cancel in the financing of the trade. (No need to consider the TED spread.) "
   ]
  },
  {
   "cell_type": "markdown",
   "id": "b4dc60d2",
   "metadata": {},
   "source": [
    "## Case Clarifications\n",
    "\n",
    "\n",
    "### Duration Quotes\n",
    "Bond\n",
    "* Quote: Val01 of bond is .1746 per bp per $1 face value\n",
    "* Class terminology: Modified dollar duration is .1746 per $100 face value\n",
    "\n",
    "Swap\n",
    "* Quote: DV01 of swap is 1.7mm per 1 billion notional.\n",
    "* Class terminology: Modified dollar duration is 100(1.7/1000) per $100 face value.\n",
    "\n",
    "Thus, modified dollar duration for each per 100 face is\n",
    "* Bond = .1746\n",
    "* Swap = .1700\n",
    "\n",
    "### Hedge Ratio\n",
    "\n",
    "In figuring out the hedge ratio, they set up the hedge per dollar of face value. \n",
    "\n",
    "    *so Mills would need to buy face amount $0.97 billion*\n",
    "    \n",
    "No, this hedge should be for market value, not face amount given that the case is already using **modified** duration which includes the dirty price.\n",
    "    \n",
    "\n",
    "### Maturity Mismatch\n",
    "\n",
    "The maturity of the bond is August 2038, whereas the date is Nov 2008. Thus, the bond has less than 30 years to maturity, yet he is entering a 30-year swap. \n",
    "\n",
    "For simplicity, we imagine the bond is issued in Nov 2008 and thus has maturity of 30 years at the time of the case.\n",
    "\n",
    "However, then the case quotes for the Nov price and YTM of the bond no longer are accurate. Use one and adjust the other. Namely, we could...\n",
    "    * use the Nov 4 **YTM** quoted in the case, and re-adjust the the bond.\n",
    "    * use the Nov 4 **price** quoted in the case, and re-adjust the YTM.\n",
    "    \n",
    "We do the former, keep the quoted YTM, assume time-to-maturity of `30`, and recalculate the Nov 2008 price. (It is close to the quoted price in the case.)"
   ]
  },
  {
   "cell_type": "markdown",
   "id": "88f4ddfa",
   "metadata": {},
   "source": [
    "***"
   ]
  },
  {
   "cell_type": "code",
   "execution_count": 41,
   "id": "e5c00539",
   "metadata": {},
   "outputs": [],
   "source": [
    "# Case Parameter\n",
    "ytm = 4.193/100  # Annual yield to maturity\n",
    "coupon_rate = 4.5/100  # Annual coupon rate\n",
    "time_to_maturity = 30  # Years to maturity\n",
    "swap_rate = 4.256/100 # Fixed rate of the swap \n",
    "\n",
    "par_value = 100\n",
    "haircut = 0.02"
   ]
  },
  {
   "cell_type": "markdown",
   "id": "2b81df67",
   "metadata": {},
   "source": [
    "## 1.0.\n",
    "\n",
    "Report the price of the 30-year T-bond in Nov 2008. Given the discussion about `Maturity Mismatch`, we are repricing the bond, so it will not exactly equal `105` as reported in the case."
   ]
  },
  {
   "cell_type": "code",
   "execution_count": 75,
   "id": "7c249438",
   "metadata": {},
   "outputs": [
    {
     "name": "stdout",
     "output_type": "stream",
     "text": [
      "The price of the 30-Year Treasury bond is: $105.21\n"
     ]
    }
   ],
   "source": [
    "ytm = 4.193/100  # Annual yield to maturity\n",
    "coupon_rate = 4.5/100  # Annual coupon rate\n",
    "face_value = 100  # Face value = Par Value\n",
    "time_to_maturity = 30  # Years to maturity\n",
    "\n",
    "treasury_price_nov08 = price_treasury_ytm(ytm, coupon_rate, face_value, time_to_maturity)\n",
    "print(f\"The price of the 30-Year Treasury bond is: ${treasury_price_nov08:.2f}\")"
   ]
  },
  {
   "cell_type": "markdown",
   "id": "48cc1866",
   "metadata": {},
   "source": [
    "## 1.1\n",
    "\n",
    "List the projected cashflows on May 4, 2009, exactly six months into the trade, on the first coupon and swap date.\n",
    "\n",
    "#### Clarification\n",
    "List these cashflows for face value of $1B, not the $0.97B noted in the case. As mentioned in \"Case Clarifications\", we will not use this number. Rather, we calculate our own hedge ratio in a problem below."
   ]
  },
  {
   "cell_type": "code",
   "execution_count": 43,
   "id": "2a4ce1af",
   "metadata": {},
   "outputs": [],
   "source": [
    "# No need to account for the repo rate or the swap's floating payment, \n",
    "# as they both are modeled in this problem with SOFR, and thus net to zero\n",
    "SOFR = np.nan"
   ]
  },
  {
   "cell_type": "code",
   "execution_count": 44,
   "id": "e13c1753",
   "metadata": {},
   "outputs": [
    {
     "data": {
      "text/html": [
       "<style type=\"text/css\">\n",
       "</style>\n",
       "<table id=\"T_22004\">\n",
       "  <thead>\n",
       "    <tr>\n",
       "      <th class=\"blank level0\" >&nbsp;</th>\n",
       "      <th id=\"T_22004_level0_col0\" class=\"col_heading level0 col0\" >May 2009</th>\n",
       "    </tr>\n",
       "  </thead>\n",
       "  <tbody>\n",
       "    <tr>\n",
       "      <th id=\"T_22004_level0_row0\" class=\"row_heading level0 row0\" >T bond</th>\n",
       "      <td id=\"T_22004_row0_col0\" class=\"data row0 col0\" >$2.25</td>\n",
       "    </tr>\n",
       "    <tr>\n",
       "      <th id=\"T_22004_level0_row1\" class=\"row_heading level0 row1\" >Repo</th>\n",
       "      <td id=\"T_22004_row1_col0\" class=\"data row1 col0\" >$nan</td>\n",
       "    </tr>\n",
       "    <tr>\n",
       "      <th id=\"T_22004_level0_row2\" class=\"row_heading level0 row2\" >Swap (floating leg)</th>\n",
       "      <td id=\"T_22004_row2_col0\" class=\"data row2 col0\" >$nan</td>\n",
       "    </tr>\n",
       "    <tr>\n",
       "      <th id=\"T_22004_level0_row3\" class=\"row_heading level0 row3\" >Swap (fixed leg)</th>\n",
       "      <td id=\"T_22004_row3_col0\" class=\"data row3 col0\" >$-2.13</td>\n",
       "    </tr>\n",
       "    <tr>\n",
       "      <th id=\"T_22004_level0_row4\" class=\"row_heading level0 row4\" >Net Payment</th>\n",
       "      <td id=\"T_22004_row4_col0\" class=\"data row4 col0\" >$0.12</td>\n",
       "    </tr>\n",
       "  </tbody>\n",
       "</table>\n"
      ],
      "text/plain": [
       "<pandas.io.formats.style.Styler at 0x13d515fd0>"
      ]
     },
     "execution_count": 44,
     "metadata": {},
     "output_type": "execute_result"
    }
   ],
   "source": [
    "face_value = 100 # Unit is tens of millions\n",
    "coupon_rate = 4.5/100  # 4.5% annual coupon rate\n",
    "swap_rate = 4.256/100 # 4.256% fixed rate of the swap \n",
    "\n",
    "CF = pd.DataFrame(index=['T bond','Repo','Swap (floating leg)','Swap (fixed leg)'],columns=['May 2009'],dtype=float)\n",
    "\n",
    "CF.loc['Repo'] = -SOFR # Pay SOFR (floating) as repo rate to borrow cash for buying 30Y Treasury\n",
    "\n",
    "cashflow_treasury = face_value * coupon_rate /2 # Receive fixed rate coupon payment from Treasuries\n",
    "CF.loc[['T bond']] = cashflow_treasury\n",
    "\n",
    "CF.loc['Swap (floating leg)'] = SOFR # Receive floating rate from swap\n",
    "\n",
    "cashflow_swap_fix = -face_value * swap_rate/2 # Pay fixed rate on swap\n",
    "CF.loc[['Swap (fixed leg)']] = cashflow_swap_fix\n",
    "\n",
    "CF.loc['Net Payment'] = CF.sum(axis=0)\n",
    "CF.style.format('${:,.2f}')\n",
    "# We are receiving more than we are paying"
   ]
  },
  {
   "cell_type": "markdown",
   "id": "2076b2c9",
   "metadata": {},
   "source": [
    "## 1.2\n",
    "\n",
    "What is the duration of...\n",
    "* the T-bond\n",
    "* the swap\n",
    "\n",
    "Remember that...\n",
    "* the swap can be decomposed into a fixed-rate bond and a floating-rate note\n",
    "* a floating-rate note has duration equal to the time until the next reset. Thus, at initialization, it has duration equal to 0.5 years.\n",
    "\n",
    "Is the duration for the \"paying-fixed\" swap positive or negative? Is it bigger or smaller in magnitude than the T-bond?\n",
    "\n",
    "For this problem, calculate the Macauley duration and the dollar (Macauley) duration."
   ]
  },
  {
   "cell_type": "code",
   "execution_count": 77,
   "id": "8f3c90e6",
   "metadata": {},
   "outputs": [
    {
     "name": "stdout",
     "output_type": "stream",
     "text": [
      "Duration of the Treasury Bond: 17.0836\n",
      "Dollar Duration of the Treasury Bond: $1,797.4251\n"
     ]
    }
   ],
   "source": [
    "# Treasury Bond\n",
    "tau = 30  # 30 years-to-maturity\n",
    "ytm = 4.193/100  # 4.193% annual yield to maturity\n",
    "coupon_rate = 4.5/100  # 4.5% annual coupon rate\n",
    "freq = 2       # Semi-annual payments\n",
    "\n",
    "dur_treasury = duration_closed_formula(tau, ytm, coupon_rate, freq=2)\n",
    "print(f\"Duration of the Treasury Bond: {dur_treasury:.4f}\")\n",
    "\n",
    "# Dollar Duration = Duration x Treasury Price (calculated)\n",
    "dur_dollar_treasury = dur_treasury * treasury_price_nov08\n",
    "print(f\"Dollar Duration of the Treasury Bond: ${dur_dollar_treasury:,.4f}\")"
   ]
  },
  {
   "cell_type": "code",
   "execution_count": 46,
   "id": "fbb121e5",
   "metadata": {},
   "outputs": [
    {
     "name": "stdout",
     "output_type": "stream",
     "text": [
      "Duration of the Fixed Leg of the Swap: 17.2127\n",
      "Dollar Duration of the Fixed Leg of the Swap: $1,721.2744\n",
      "\n",
      "Duration of the Floating Leg of the Swap: 0.5\n",
      "Dollar Duration of the Fixed Leg of the Swap: $50.0000\n"
     ]
    }
   ],
   "source": [
    "# Fixed Leg of Swap\n",
    "tau = 30  # 30 years-to-maturity\n",
    "swap_rate = 4.256/100 # 4.256% fixed rate of the swap \n",
    "coupon_rate = None\n",
    "freq = 2       # Semi-annual payments\n",
    "\n",
    "dur_swap_fix = duration_closed_formula(tau, swap_rate, coupon_rate, freq=2)\n",
    "print(f\"Duration of the Fixed Leg of the Swap: {dur_swap_fix:.4f}\")\n",
    "\n",
    "# Dollar duration = Duration x Price\n",
    "# Swaps are combinations of bonds and notes\n",
    "# Price = 100\n",
    "dur_dollar_swap_fix = dur_swap_fix * 100\n",
    "print(f\"Dollar Duration of the Fixed Leg of the Swap: ${dur_dollar_swap_fix:,.4f}\\n\")\n",
    "\n",
    "dur_swap_float = 0.5 # Semi-annual reset\n",
    "dur_dollar_swap_float = dur_swap_float * 100\n",
    "\n",
    "print(f\"Duration of the Floating Leg of the Swap: {dur_swap_float}\")\n",
    "print(f\"Dollar Duration of the Fixed Leg of the Swap: ${dur_dollar_swap_float:,.4f}\")"
   ]
  },
  {
   "cell_type": "code",
   "execution_count": 47,
   "id": "d382983b",
   "metadata": {},
   "outputs": [
    {
     "name": "stdout",
     "output_type": "stream",
     "text": [
      "Duration of the Repo: 0.5\n",
      "Repo Amount: $98.0000\n",
      "Dollar Duration of the Repo: $49.0000\n"
     ]
    }
   ],
   "source": [
    "dur_repo = 0.5 # Semi-annual reset\n",
    "# Borrowed Repo = treasury price * (1-haircut)\n",
    "repo = treasury_price_nov08 * (1 - haircut)\n",
    "dur_dollar_repo = dur_repo * repo\n",
    "\n",
    "print(f\"Duration of the Repo: {dur_repo}\")\n",
    "print(f\"Repo Amount: ${repo:,.4f}\")\n",
    "print(f\"Dollar Duration of the Repo: ${dur_dollar_repo:,.4f}\")"
   ]
  },
  {
   "cell_type": "code",
   "execution_count": 78,
   "id": "b38beb71",
   "metadata": {},
   "outputs": [
    {
     "data": {
      "text/html": [
       "<div>\n",
       "<style scoped>\n",
       "    .dataframe tbody tr th:only-of-type {\n",
       "        vertical-align: middle;\n",
       "    }\n",
       "\n",
       "    .dataframe tbody tr th {\n",
       "        vertical-align: top;\n",
       "    }\n",
       "\n",
       "    .dataframe thead th {\n",
       "        text-align: right;\n",
       "    }\n",
       "</style>\n",
       "<table border=\"1\" class=\"dataframe\">\n",
       "  <thead>\n",
       "    <tr style=\"text-align: right;\">\n",
       "      <th></th>\n",
       "      <th>duration</th>\n",
       "      <th>dollar duration</th>\n",
       "    </tr>\n",
       "  </thead>\n",
       "  <tbody>\n",
       "    <tr>\n",
       "      <th>T repo</th>\n",
       "      <td>16.583633</td>\n",
       "      <td>1748.425100</td>\n",
       "    </tr>\n",
       "    <tr>\n",
       "      <th>swap</th>\n",
       "      <td>16.712744</td>\n",
       "      <td>1671.274445</td>\n",
       "    </tr>\n",
       "    <tr>\n",
       "      <th>net</th>\n",
       "      <td>-0.129111</td>\n",
       "      <td>77.150654</td>\n",
       "    </tr>\n",
       "  </tbody>\n",
       "</table>\n",
       "</div>"
      ],
      "text/plain": [
       "         duration  dollar duration\n",
       "T repo  16.583633      1748.425100\n",
       "swap    16.712744      1671.274445\n",
       "net     -0.129111        77.150654"
      ]
     },
     "execution_count": 78,
     "metadata": {},
     "output_type": "execute_result"
    }
   ],
   "source": [
    "tab_net = pd.DataFrame(dtype=float, index=['T repo','swap'], columns=['duration','dollar duration'])\n",
    "# For T Repo: Treasury Bond (fixed) - Repo (floating)\n",
    "net_dur_repo = dur_treasury - dur_repo\n",
    "net_dur_dollar_repo = dur_dollar_treasury - dur_dollar_repo\n",
    "tab_net.loc['T repo', 'duration'] = net_dur_repo\n",
    "tab_net.loc['T repo', 'dollar duration'] = net_dur_dollar_repo\n",
    "\n",
    "# For Swap: Fixed Leg - Floating Leg\n",
    "net_dur_swap = dur_swap_fix - dur_swap_float\n",
    "net_dur_dollar_swap = dur_dollar_swap_fix - dur_dollar_swap_float\n",
    "tab_net.loc['swap', 'duration'] = net_dur_swap\n",
    "tab_net.loc['swap', 'dollar duration'] = net_dur_dollar_swap\n",
    "\n",
    "tab_net.loc['net'] = tab_net.loc['T repo'] - tab_net.loc['swap']\n",
    "\n",
    "tab_net"
   ]
  },
  {
   "cell_type": "markdown",
   "id": "3a628b52",
   "metadata": {},
   "source": [
    "* Is the duration for the \"paying-fixed\" swap positive or negative? Is it bigger or smaller in magnitude than the T-bond?\n",
    "\n",
    "The duration of the \"paying-fixed\" swap positive is positive. Duration number is always positive. \n",
    "\n",
    "In magnitude, the duration of the swap is bigger than that of the T-bond."
   ]
  },
  {
   "cell_type": "markdown",
   "id": "2b944cf6",
   "metadata": {},
   "source": [
    "## 1.3\n",
    "\n",
    "What hedge ratio should be used to balance the notional size of the Treasury bond with the notional size of the swap, such that it is a duration-neutral position?\n",
    "\n",
    "Specifically, if the trader enters the swap paying fixed on \\$500 million notional, how large of a position should they take in the Treasury bond?"
   ]
  },
  {
   "cell_type": "code",
   "execution_count": 79,
   "id": "6bcf7674",
   "metadata": {},
   "outputs": [
    {
     "name": "stdout",
     "output_type": "stream",
     "text": [
      "Hedge Ratio: 0.9559\n"
     ]
    }
   ],
   "source": [
    "# hedge ratio = d$i / d$j\n",
    "hedge_ratio = (net_dur_dollar_swap) / (net_dur_dollar_repo)\n",
    "print(f\"Hedge Ratio: {hedge_ratio:,.4f}\")"
   ]
  },
  {
   "cell_type": "code",
   "execution_count": 81,
   "id": "ea669c08",
   "metadata": {},
   "outputs": [
    {
     "name": "stdout",
     "output_type": "stream",
     "text": [
      "Notional for Treasury Bond: $477,937,100.6\n",
      "Units of Treasury Bond: 4,542,554.8\n"
     ]
    }
   ],
   "source": [
    "swap_notional = 500_000_000\n",
    "par_value = 100\n",
    "\n",
    "# nj = ni * d$i / d$j\n",
    "treasury_notional = swap_notional * hedge_ratio\n",
    "print(f\"Notional for Treasury Bond: ${treasury_notional:,.1f}\")\n",
    "\n",
    "# Number of Units = Notional Size / Par Value\n",
    "treasury_n = treasury_notional / treasury_price_nov08\n",
    "print(f\"Units of Treasury Bond: {treasury_n:,.1f}\")"
   ]
  },
  {
   "cell_type": "code",
   "execution_count": 82,
   "id": "06c4e561",
   "metadata": {},
   "outputs": [
    {
     "name": "stdout",
     "output_type": "stream",
     "text": [
      "Notional for Swap: $500,000,000.0\n",
      "Units for Swap: -5,000,000.0\n"
     ]
    }
   ],
   "source": [
    "par_value = 100\n",
    "\n",
    "# Number of Units = Notional Size / Par Value\n",
    "swap_n = swap_notional / par_value\n",
    "print(f\"Notional for Swap: ${swap_notional:,.1f}\")\n",
    "print(f\"Units for Swap: {-swap_n:,.1f}\")"
   ]
  },
  {
   "cell_type": "markdown",
   "id": "95877cb8",
   "metadata": {},
   "source": [
    "## 1.4\n",
    "\n",
    "Suppose it is May 4, 2009, exactly six months after putting the trade on.\n",
    "\n",
    "The spread is at -28 bps due to...\n",
    "* The YTM on a new 30-year bond has risen to 4.36\\%\n",
    "* The swap rate on a new 30-year swap has dropped to 4.08\\%\n",
    "\n",
    "Explain conceptually how this movement impacts the components of the trade."
   ]
  },
  {
   "cell_type": "markdown",
   "id": "a75d3f62",
   "metadata": {},
   "source": [
    "What happens if spread becomes negative?\n",
    "1.\tLower Swap Rate: <br>\n",
    "a.\tWe are paying fixed rate on the swap<br>\n",
    "b.\tIf swap rates decreased, our 30-year fixed rate on the swap is higher than any fixed rate of newly created swaps<br>\n",
    "c.\tOur pay-fixed swap position will decrease in value (Mark-to-Market loss)<br>\n",
    "d.\tWe will have a loss in our swap position<br>\n",
    "\n",
    "2.\tHigher YTM on Treasuries: <br>\n",
    "a.\tYields are inversely related to price<br>\n",
    "b.\tIf Treasury yields increase, the value on Treasuries decrease<br>\n",
    "c.\tWe are long on Treasuries (holding treasuries)<br>\n",
    "d.\tOur long position will lose value due to the increase in yields <br>\n",
    "e.\tThis will be considered another loss<br>\n",
    "\n",
    "3.\tThe floating rate on the swap and repo will still cancel each other out since they move together in the same direction\n"
   ]
  },
  {
   "cell_type": "markdown",
   "id": "c8bf1f3a",
   "metadata": {},
   "source": [
    "## 1.5\n",
    "\n",
    "Calculate the value of the position on May 4, 2009, immediately after the first coupon and swap payments and swap reset. \n",
    "\n",
    "* Calculate the revised price of the Treasury bond by assuming you can apply the (May 4) 30-year YTM as a discount rate to the 29.5 year bond. (We are just using this for a rough approximation. You know that good pricing would require a discount curve, but let's not get bogged down with that here.)\n",
    "\n",
    "\n",
    "* Calculate the value of the swap by decomposing it into a fixed-rate bond and a floating-rate bond.\n",
    "    * The 29.5 year fixed-rate leg is priced using the (May 4) 30-year swap rate as a discount rate.\n",
    "    * The floating-rate leg is priced at par given that floating-rate notes are par immediately after resets.\n",
    "    \n",
    "**Note**\n",
    "\n",
    "You are being asked to calculate these valuations using the exact formula between price, cashflows, and YTM discount rate. We are not simply approximating with duration, as we already know the position was set up with zero dollar duration.\n",
    "\n",
    "From the Discussion notebook, we have this formula expressing a bond's price as a function of the coupon, $c$, and the YTM, $y_j$.\n",
    "\n",
    "$\\begin{align*}\n",
    "P_j(t,T,c) = \\sum_{i=1}^{n-1}\\frac{100\\left(\\frac{c}{2}\\right)}{\\left(1+\\frac{y_j}{2}\\right)^{2(T_i-t)}} + \\frac{100\\left(1+\\frac{c}{2}\\right)}{\\left(1+\\frac{y_j}{2}\\right)^{2(T-t)}}\n",
    "\\end{align*}\n",
    "$"
   ]
  },
  {
   "cell_type": "code",
   "execution_count": 52,
   "id": "f776b2eb",
   "metadata": {},
   "outputs": [],
   "source": [
    "# New Parameters:\n",
    "ytm_2 = 4.36/100  # Annual yield to maturity of 30Y Treasuries\n",
    "swap_rate_2 = 4.08/100 # Fixed rate on 30Y swap"
   ]
  },
  {
   "cell_type": "code",
   "execution_count": 85,
   "id": "d2648bf3",
   "metadata": {},
   "outputs": [
    {
     "name": "stdout",
     "output_type": "stream",
     "text": [
      "The revised price of the Treasury bond on May 4, 2009 is: $102.31\n",
      "The original price of the Treasury bond on November 2008 is: $105.21\n"
     ]
    }
   ],
   "source": [
    "# Pricing Treasuries based on YTM\n",
    "ytm_2 = 4.36/100  # Annual yield to maturity of 30Y Treasuries\n",
    "coupon_rate = 4.5/100  # Annual coupon rate\n",
    "face_value = 100  # Face value of $100\n",
    "time_to_maturity = 29.5  # Years to maturity\n",
    "\n",
    "treasury_price_may09 = price_treasury_ytm(ytm_2, coupon_rate, face_value, time_to_maturity)\n",
    "print(f\"The revised price of the Treasury bond on May 4, 2009 is: ${treasury_price_may09:.2f}\")\n",
    "\n",
    "print(f\"The original price of the Treasury bond on November 2008 is: ${treasury_price_nov08:.2f}\")"
   ]
  },
  {
   "cell_type": "code",
   "execution_count": 84,
   "id": "4d788024",
   "metadata": {},
   "outputs": [
    {
     "name": "stdout",
     "output_type": "stream",
     "text": [
      "On May 4, 2009:\n",
      "Price of the Fixed Leg of the Swap: $103.00\n",
      "Price of the Floating Leg of the Swap: $100.00\n",
      "Price of the Swap: $3.00\n",
      "\n",
      "Price of the Swap on Nov 2008: $0.00\n"
     ]
    }
   ],
   "source": [
    "# Pricing Fixed Leg of the Swap\n",
    "\n",
    "# Use the new 30Y swap rate as the discount rate (YTM) for the 29.5Y Swap\n",
    "swap_rate_2 = 4.08/100 # Fixed rate on 30Y swap\n",
    "ytm = swap_rate_2\n",
    "\n",
    "# Use the old 30Y swap rate as the coupon rate for the 29.5Y Swap\n",
    "swap_rate = 4.256/100 # Fixed rate on 30Y swap\n",
    "coupon_rate = swap_rate \n",
    "\n",
    "face_value = 100  # Face value of $100\n",
    "time_to_maturity = 29.5  # Years to maturity\n",
    "\n",
    "fix_leg_price = price_treasury_ytm(ytm, coupon_rate, face_value, time_to_maturity)\n",
    "print(f\"On May 4, 2009:\")\n",
    "print(f\"Price of the Fixed Leg of the Swap: ${fix_leg_price:.2f}\")\n",
    "\n",
    "par_value = 100\n",
    "print(f\"Price of the Floating Leg of the Swap: ${par_value:.2f}\")\n",
    "\n",
    "# Swap Price = Fixed Leg Price - Floating Leg Price\n",
    "swap_price_may09 = fix_leg_price - par_value\n",
    "print(f\"Price of the Swap: ${swap_price_may09:.2f}\\n\")\n",
    "\n",
    "swap_price_nov08 = par_value - par_value\n",
    "print(f\"Price of the Swap on Nov 2008: ${swap_price_nov08:.2f}\")"
   ]
  },
  {
   "cell_type": "markdown",
   "id": "7fba6574",
   "metadata": {},
   "source": [
    "## 1.6\n",
    "\n",
    "Accounting for the change in value of the positions, as well as the 6-month cashflows paid on May 4, \n",
    "* what is the net profit and loss (pnl) of the position?\n",
    "* what is the return on the equity capital, considering that there was a 2\\% haircut (equity contribution) on the size of the initial treasury bond position."
   ]
  },
  {
   "cell_type": "code",
   "execution_count": 86,
   "id": "7e9a9737",
   "metadata": {},
   "outputs": [
    {
     "name": "stdout",
     "output_type": "stream",
     "text": [
      "Cash Flow from Treasury Position: $10,220,748.36\n",
      "Cash Flow from Swap Position: $-10,640,000.00\n",
      "Cash Flow Net: $-419,251.64\n"
     ]
    }
   ],
   "source": [
    "# Cash Flow Total = Cash Flow per Security x Number of Securities\n",
    "cashflow_treasury_total = cashflow_treasury * treasury_n\n",
    "cashflow_swap_total = cashflow_swap_fix * swap_n\n",
    "cashflow_net = cashflow_treasury_total + cashflow_swap_total\n",
    "\n",
    "print(f\"Cash Flow from Treasury Position: ${cashflow_treasury_total:,.2f}\")\n",
    "print(f\"Cash Flow from Swap Position: ${cashflow_swap_total:,.2f}\")\n",
    "print(f\"Cash Flow Net: ${cashflow_net:,.2f}\")"
   ]
  },
  {
   "cell_type": "code",
   "execution_count": 87,
   "id": "4a2b02ac",
   "metadata": {},
   "outputs": [
    {
     "name": "stdout",
     "output_type": "stream",
     "text": [
      "Capital Gains from Treasury Position: $-13,181,953.84\n",
      "Capital Gains from Swap Position: $-15,016,747.03\n",
      "Capital Gains Net: $-28,198,700.86\n"
     ]
    }
   ],
   "source": [
    "# Capital gains = (New Price - Old Price) x Number of Securities\n",
    "capgains_treasury = (treasury_price_may09 - treasury_price_nov08) * treasury_n\n",
    "capgains_swap = - (swap_price_may09 - swap_price_nov08) * swap_n\n",
    "capgains_net = capgains_treasury + capgains_swap\n",
    "\n",
    "print(f\"Capital Gains from Treasury Position: ${capgains_treasury:,.2f}\")\n",
    "print(f\"Capital Gains from Swap Position: ${capgains_swap:,.2f}\")\n",
    "print(f\"Capital Gains Net: ${capgains_net:,.2f}\")"
   ]
  },
  {
   "cell_type": "code",
   "execution_count": 88,
   "id": "d8a117d4",
   "metadata": {},
   "outputs": [
    {
     "name": "stdout",
     "output_type": "stream",
     "text": [
      "PnL from Treasury Position: $-2,961,205.48\n",
      "PnL from Swap Position: $-25,656,747.03\n",
      "PnL Net: $-28,617,952.51\n"
     ]
    }
   ],
   "source": [
    "# PnL = Cash Flow Total + Capital Gains\n",
    "pnl_treasury = cashflow_treasury_total + capgains_treasury\n",
    "pnl_swap = cashflow_swap_total + capgains_swap\n",
    "pnl_net = pnl_treasury + pnl_swap\n",
    "\n",
    "print(f\"PnL from Treasury Position: ${pnl_treasury:,.2f}\")\n",
    "print(f\"PnL from Swap Position: ${pnl_swap:,.2f}\")\n",
    "print(f\"PnL Net: ${pnl_net:,.2f}\")"
   ]
  },
  {
   "cell_type": "code",
   "execution_count": 89,
   "id": "86809c7a",
   "metadata": {},
   "outputs": [
    {
     "name": "stdout",
     "output_type": "stream",
     "text": [
      "Asset - Treasuries: $477,937,100.62\n",
      "Asset - Swap: $0.00\n",
      "Asset - Net: $477,937,100.62\n"
     ]
    }
   ],
   "source": [
    "# Asset = Old Price x Number of Securities\n",
    "asset_treasury = treasury_price_nov08 * treasury_n\n",
    "asset_swap = swap_price_nov08 * swap_n\n",
    "asset_net = asset_treasury + asset_swap\n",
    "\n",
    "print(f\"Asset - Treasuries: ${asset_treasury:,.2f}\")\n",
    "print(f\"Asset - Swap: ${asset_swap:,.2f}\")\n",
    "print(f\"Asset - Net: ${asset_net:,.2f}\")"
   ]
  },
  {
   "cell_type": "code",
   "execution_count": 90,
   "id": "b00b1866",
   "metadata": {},
   "outputs": [
    {
     "name": "stdout",
     "output_type": "stream",
     "text": [
      "Equity - Treasuries: $9,558,742.01\n",
      "Equity - Swap: $0.00\n",
      "Equity - Net: $9,558,742.01\n"
     ]
    }
   ],
   "source": [
    "# Equity = Asset * Haircut\n",
    "haircut = 0.02\n",
    "equity_treasury = asset_treasury * haircut\n",
    "equity_swap = asset_swap * haircut\n",
    "equity_net = equity_treasury + equity_swap\n",
    "\n",
    "print(f\"Equity - Treasuries: ${equity_treasury:,.2f}\")\n",
    "print(f\"Equity - Swap: ${equity_swap:,.2f}\")\n",
    "print(f\"Equity - Net: ${equity_net:,.2f}\")"
   ]
  },
  {
   "cell_type": "code",
   "execution_count": 91,
   "id": "f6558695",
   "metadata": {},
   "outputs": [
    {
     "name": "stdout",
     "output_type": "stream",
     "text": [
      "Return on Equity: -299.39%\n"
     ]
    }
   ],
   "source": [
    "# Return on Equity = (Net PnL / Net asset) x 100\n",
    "RoE = (pnl_net/equity_net)*100\n",
    "print(f\"Return on Equity: {RoE:,.2f}%\")"
   ]
  },
  {
   "cell_type": "markdown",
   "id": "948c9706",
   "metadata": {},
   "source": [
    "***"
   ]
  },
  {
   "cell_type": "markdown",
   "id": "633edb93",
   "metadata": {},
   "source": [
    "# 2. Factor Duration"
   ]
  },
  {
   "cell_type": "markdown",
   "id": "0f6e4aa6",
   "metadata": {},
   "source": [
    "### Data\n",
    "\n",
    "This problem uses data from,\n",
    "* `/data/yields.xlsx`\n",
    "* `/data/treasury_ts_duration_2024-10-31.xlsx`"
   ]
  },
  {
   "cell_type": "markdown",
   "id": "6127c1e5",
   "metadata": {},
   "source": [
    "#### Load Yields"
   ]
  },
  {
   "cell_type": "code",
   "execution_count": 61,
   "id": "69fbc7c2",
   "metadata": {},
   "outputs": [],
   "source": [
    "filepath = '../data/yields.xlsx'\n",
    "yields = pd.read_excel(filepath, sheet_name='yields')\n",
    "yields.set_index('caldt',inplace=True)"
   ]
  },
  {
   "cell_type": "markdown",
   "id": "de979e9a",
   "metadata": {},
   "source": [
    "#### Load Prices and Durations of Two Treasuries"
   ]
  },
  {
   "cell_type": "code",
   "execution_count": 62,
   "id": "18b846dd",
   "metadata": {},
   "outputs": [
    {
     "data": {
      "text/html": [
       "<div>\n",
       "<style scoped>\n",
       "    .dataframe tbody tr th:only-of-type {\n",
       "        vertical-align: middle;\n",
       "    }\n",
       "\n",
       "    .dataframe tbody tr th {\n",
       "        vertical-align: top;\n",
       "    }\n",
       "\n",
       "    .dataframe thead th {\n",
       "        text-align: right;\n",
       "    }\n",
       "</style>\n",
       "<table border=\"1\" class=\"dataframe\">\n",
       "  <thead>\n",
       "    <tr style=\"text-align: right;\">\n",
       "      <th></th>\n",
       "      <th>type</th>\n",
       "      <th>issue date</th>\n",
       "      <th>maturity date</th>\n",
       "      <th>cpn rate</th>\n",
       "    </tr>\n",
       "    <tr>\n",
       "      <th>KYTREASNO</th>\n",
       "      <th></th>\n",
       "      <th></th>\n",
       "      <th></th>\n",
       "      <th></th>\n",
       "    </tr>\n",
       "  </thead>\n",
       "  <tbody>\n",
       "    <tr>\n",
       "      <th>207391</th>\n",
       "      <td>note</td>\n",
       "      <td>2019-08-15</td>\n",
       "      <td>2029-08-15</td>\n",
       "      <td>1.625</td>\n",
       "    </tr>\n",
       "    <tr>\n",
       "      <th>207392</th>\n",
       "      <td>bond</td>\n",
       "      <td>2019-08-15</td>\n",
       "      <td>2049-08-15</td>\n",
       "      <td>2.250</td>\n",
       "    </tr>\n",
       "  </tbody>\n",
       "</table>\n",
       "</div>"
      ],
      "text/plain": [
       "           type issue date maturity date  cpn rate\n",
       "KYTREASNO                                         \n",
       "207391     note 2019-08-15    2029-08-15     1.625\n",
       "207392     bond 2019-08-15    2049-08-15     2.250"
      ]
     },
     "execution_count": 62,
     "metadata": {},
     "output_type": "execute_result"
    }
   ],
   "source": [
    "QUOTE_DATE = '2024-10-31'\n",
    "filepath = f'../data/treasury_ts_duration_{QUOTE_DATE}.xlsx'\n",
    "\n",
    "data = pd.read_excel(filepath,sheet_name='database')\n",
    "data_info =  data.drop_duplicates(subset='KYTREASNO', keep='first').set_index('KYTREASNO')\n",
    "data_info[['type','issue date','maturity date','cpn rate']]"
   ]
  },
  {
   "cell_type": "markdown",
   "id": "28e8f46c",
   "metadata": {},
   "source": [
    "You will largely focus on the sheets which give the timeseries of prices and durations for each of the two securities, as shown in the following code."
   ]
  },
  {
   "cell_type": "code",
   "execution_count": 63,
   "id": "8724ba0a",
   "metadata": {},
   "outputs": [
    {
     "data": {
      "text/html": [
       "<div>\n",
       "<style scoped>\n",
       "    .dataframe tbody tr th:only-of-type {\n",
       "        vertical-align: middle;\n",
       "    }\n",
       "\n",
       "    .dataframe tbody tr th {\n",
       "        vertical-align: top;\n",
       "    }\n",
       "\n",
       "    .dataframe thead th {\n",
       "        text-align: right;\n",
       "    }\n",
       "</style>\n",
       "<table border=\"1\" class=\"dataframe\">\n",
       "  <thead>\n",
       "    <tr style=\"text-align: right;\">\n",
       "      <th></th>\n",
       "      <th>207391</th>\n",
       "      <th>207392</th>\n",
       "    </tr>\n",
       "    <tr>\n",
       "      <th>quote date</th>\n",
       "      <th></th>\n",
       "      <th></th>\n",
       "    </tr>\n",
       "  </thead>\n",
       "  <tbody>\n",
       "    <tr>\n",
       "      <th>2019-08-09</th>\n",
       "      <td>98.882812</td>\n",
       "      <td>99.789062</td>\n",
       "    </tr>\n",
       "    <tr>\n",
       "      <th>2019-08-12</th>\n",
       "      <td>99.796875</td>\n",
       "      <td>102.554688</td>\n",
       "    </tr>\n",
       "    <tr>\n",
       "      <th>2019-08-13</th>\n",
       "      <td>99.281250</td>\n",
       "      <td>101.867188</td>\n",
       "    </tr>\n",
       "    <tr>\n",
       "      <th>2019-08-14</th>\n",
       "      <td>100.406250</td>\n",
       "      <td>105.179688</td>\n",
       "    </tr>\n",
       "    <tr>\n",
       "      <th>2019-08-15</th>\n",
       "      <td>100.882812</td>\n",
       "      <td>106.234375</td>\n",
       "    </tr>\n",
       "  </tbody>\n",
       "</table>\n",
       "</div>"
      ],
      "text/plain": [
       "                207391      207392\n",
       "quote date                        \n",
       "2019-08-09   98.882812   99.789062\n",
       "2019-08-12   99.796875  102.554688\n",
       "2019-08-13   99.281250  101.867188\n",
       "2019-08-14  100.406250  105.179688\n",
       "2019-08-15  100.882812  106.234375"
      ]
     },
     "execution_count": 63,
     "metadata": {},
     "output_type": "execute_result"
    }
   ],
   "source": [
    "SHEET_PRICE = 'price'\n",
    "SHEET_DURATION = 'duration'\n",
    "INDEX_NAME = 'quote date'\n",
    "\n",
    "price = pd.read_excel(filepath,sheet_name=SHEET_PRICE).set_index(INDEX_NAME)\n",
    "duration = pd.read_excel(filepath,sheet_name=SHEET_DURATION).set_index(INDEX_NAME)\n",
    "price.head()"
   ]
  },
  {
   "cell_type": "markdown",
   "id": "08fd667b",
   "metadata": {},
   "source": [
    "### 2.1.\n",
    "\n",
    "Construct the following yield-curve factors from the `yields` data set:\n",
    "\n",
    "$\\begin{align}\n",
    "x^{\\text{level}}_t =& \\frac{1}{N_{\\text{yields}}}\\sum_{i=1}^{N_{\\text{yields}}} y^{(i)}_t\\\\\n",
    "x^{\\text{slope}}_t =& y^{(30)}_t - y^{(1)}_t\\\\\n",
    "x^{\\text{curvature}}_t =& -y^{(1)}_t + 2 y^{(10)}_t - y^{(30)}_t\n",
    "\\end{align}$"
   ]
  },
  {
   "cell_type": "code",
   "execution_count": 64,
   "id": "3a42dd20",
   "metadata": {},
   "outputs": [
    {
     "data": {
      "text/html": [
       "<div>\n",
       "<style scoped>\n",
       "    .dataframe tbody tr th:only-of-type {\n",
       "        vertical-align: middle;\n",
       "    }\n",
       "\n",
       "    .dataframe tbody tr th {\n",
       "        vertical-align: top;\n",
       "    }\n",
       "\n",
       "    .dataframe thead th {\n",
       "        text-align: right;\n",
       "    }\n",
       "</style>\n",
       "<table border=\"1\" class=\"dataframe\">\n",
       "  <thead>\n",
       "    <tr style=\"text-align: right;\">\n",
       "      <th></th>\n",
       "      <th>1</th>\n",
       "      <th>2</th>\n",
       "      <th>5</th>\n",
       "      <th>7</th>\n",
       "      <th>10</th>\n",
       "      <th>20</th>\n",
       "      <th>30</th>\n",
       "    </tr>\n",
       "    <tr>\n",
       "      <th>caldt</th>\n",
       "      <th></th>\n",
       "      <th></th>\n",
       "      <th></th>\n",
       "      <th></th>\n",
       "      <th></th>\n",
       "      <th></th>\n",
       "      <th></th>\n",
       "    </tr>\n",
       "  </thead>\n",
       "  <tbody>\n",
       "    <tr>\n",
       "      <th>1961-06-14</th>\n",
       "      <td>2.935907</td>\n",
       "      <td>3.360687</td>\n",
       "      <td>3.623677</td>\n",
       "      <td>3.768720</td>\n",
       "      <td>3.818819</td>\n",
       "      <td>3.814210</td>\n",
       "      <td>3.815172</td>\n",
       "    </tr>\n",
       "    <tr>\n",
       "      <th>1961-06-15</th>\n",
       "      <td>2.932936</td>\n",
       "      <td>3.376460</td>\n",
       "      <td>3.671691</td>\n",
       "      <td>3.804225</td>\n",
       "      <td>3.862987</td>\n",
       "      <td>3.828220</td>\n",
       "      <td>3.826316</td>\n",
       "    </tr>\n",
       "    <tr>\n",
       "      <th>1961-06-16</th>\n",
       "      <td>2.929949</td>\n",
       "      <td>3.375670</td>\n",
       "      <td>3.685431</td>\n",
       "      <td>3.804216</td>\n",
       "      <td>3.863282</td>\n",
       "      <td>3.832922</td>\n",
       "      <td>3.830049</td>\n",
       "    </tr>\n",
       "    <tr>\n",
       "      <th>1961-06-19</th>\n",
       "      <td>2.920884</td>\n",
       "      <td>3.389970</td>\n",
       "      <td>3.712984</td>\n",
       "      <td>3.824557</td>\n",
       "      <td>3.886205</td>\n",
       "      <td>3.842378</td>\n",
       "      <td>3.837543</td>\n",
       "    </tr>\n",
       "    <tr>\n",
       "      <th>1961-06-20</th>\n",
       "      <td>2.952419</td>\n",
       "      <td>3.355796</td>\n",
       "      <td>3.685391</td>\n",
       "      <td>3.809274</td>\n",
       "      <td>3.886506</td>\n",
       "      <td>3.856465</td>\n",
       "      <td>3.845018</td>\n",
       "    </tr>\n",
       "  </tbody>\n",
       "</table>\n",
       "</div>"
      ],
      "text/plain": [
       "                   1         2         5         7        10        20  \\\n",
       "caldt                                                                    \n",
       "1961-06-14  2.935907  3.360687  3.623677  3.768720  3.818819  3.814210   \n",
       "1961-06-15  2.932936  3.376460  3.671691  3.804225  3.862987  3.828220   \n",
       "1961-06-16  2.929949  3.375670  3.685431  3.804216  3.863282  3.832922   \n",
       "1961-06-19  2.920884  3.389970  3.712984  3.824557  3.886205  3.842378   \n",
       "1961-06-20  2.952419  3.355796  3.685391  3.809274  3.886506  3.856465   \n",
       "\n",
       "                  30  \n",
       "caldt                 \n",
       "1961-06-14  3.815172  \n",
       "1961-06-15  3.826316  \n",
       "1961-06-16  3.830049  \n",
       "1961-06-19  3.837543  \n",
       "1961-06-20  3.845018  "
      ]
     },
     "execution_count": 64,
     "metadata": {},
     "output_type": "execute_result"
    }
   ],
   "source": [
    "df_yield = yields.copy()\n",
    "df_yield.head()"
   ]
  },
  {
   "cell_type": "code",
   "execution_count": 65,
   "id": "222c3fa4",
   "metadata": {},
   "outputs": [
    {
     "data": {
      "text/html": [
       "<div>\n",
       "<style scoped>\n",
       "    .dataframe tbody tr th:only-of-type {\n",
       "        vertical-align: middle;\n",
       "    }\n",
       "\n",
       "    .dataframe tbody tr th {\n",
       "        vertical-align: top;\n",
       "    }\n",
       "\n",
       "    .dataframe thead th {\n",
       "        text-align: right;\n",
       "    }\n",
       "</style>\n",
       "<table border=\"1\" class=\"dataframe\">\n",
       "  <thead>\n",
       "    <tr style=\"text-align: right;\">\n",
       "      <th></th>\n",
       "      <th>Level</th>\n",
       "      <th>Slope</th>\n",
       "      <th>Curvature</th>\n",
       "    </tr>\n",
       "    <tr>\n",
       "      <th>caldt</th>\n",
       "      <th></th>\n",
       "      <th></th>\n",
       "      <th></th>\n",
       "    </tr>\n",
       "  </thead>\n",
       "  <tbody>\n",
       "    <tr>\n",
       "      <th>1961-06-14</th>\n",
       "      <td>3.591027</td>\n",
       "      <td>0.879264</td>\n",
       "      <td>0.886559</td>\n",
       "    </tr>\n",
       "    <tr>\n",
       "      <th>1961-06-15</th>\n",
       "      <td>3.614691</td>\n",
       "      <td>0.893380</td>\n",
       "      <td>0.966721</td>\n",
       "    </tr>\n",
       "    <tr>\n",
       "      <th>1961-06-16</th>\n",
       "      <td>3.617360</td>\n",
       "      <td>0.900101</td>\n",
       "      <td>0.966566</td>\n",
       "    </tr>\n",
       "    <tr>\n",
       "      <th>1961-06-19</th>\n",
       "      <td>3.630646</td>\n",
       "      <td>0.916659</td>\n",
       "      <td>1.013983</td>\n",
       "    </tr>\n",
       "    <tr>\n",
       "      <th>1961-06-20</th>\n",
       "      <td>3.627267</td>\n",
       "      <td>0.892599</td>\n",
       "      <td>0.975574</td>\n",
       "    </tr>\n",
       "  </tbody>\n",
       "</table>\n",
       "</div>"
      ],
      "text/plain": [
       "               Level     Slope  Curvature\n",
       "caldt                                    \n",
       "1961-06-14  3.591027  0.879264   0.886559\n",
       "1961-06-15  3.614691  0.893380   0.966721\n",
       "1961-06-16  3.617360  0.900101   0.966566\n",
       "1961-06-19  3.630646  0.916659   1.013983\n",
       "1961-06-20  3.627267  0.892599   0.975574"
      ]
     },
     "execution_count": 65,
     "metadata": {},
     "output_type": "execute_result"
    }
   ],
   "source": [
    "# Level = Mean of all yields\n",
    "df_yield['Level'] = df_yield[[1, 2, 5, 7, 10, 20, 30]].mean(axis=1)\n",
    "# Slope = 30-year yield - 1-year yield\n",
    "df_yield['Slope'] = df_yield[30] - df_yield[1]\n",
    "# Curvature = - 1-year yield + 2 * 10-year yield - 30-year yield\n",
    "df_yield['Curvature'] = - df_yield[1] + 2*df_yield[10] - df_yield[30]\n",
    "\n",
    "df_factors = df_yield[['Level', 'Slope', 'Curvature']]\n",
    "df_factors.head()"
   ]
  },
  {
   "cell_type": "markdown",
   "id": "42d3a537",
   "metadata": {},
   "source": [
    "### 2.2\n",
    "\n",
    "Get the bond prices and durations for the two bonds in the data set referenced above.\n",
    "\n",
    "#### Align the data\n",
    "\n",
    "Align the bond pricing data with the yield factor data, so that you have data for both in the intersection of their dates.\n",
    "\n",
    "\n",
    "#### Estimate the regression\n",
    "\n",
    "Estimate the regression in the form of day-over-day differences for both bond prices and factors. That is, we are using regression to approximate the factor duration equation,\n",
    "\n",
    "$\\begin{align}\n",
    "\\frac{dP}{P} = \\alpha + \\beta_L dx_{\\text{level}} + \\beta_S dx_{\\text{slope}} + \\beta_C dx_{\\text{curvature}} + \\epsilon\n",
    "\\end{align}$\n",
    "\n",
    "Report the betas for each of these factors, for each of the bond prices."
   ]
  },
  {
   "cell_type": "code",
   "execution_count": 66,
   "id": "a6261b44",
   "metadata": {},
   "outputs": [
    {
     "data": {
      "text/html": [
       "<div>\n",
       "<style scoped>\n",
       "    .dataframe tbody tr th:only-of-type {\n",
       "        vertical-align: middle;\n",
       "    }\n",
       "\n",
       "    .dataframe tbody tr th {\n",
       "        vertical-align: top;\n",
       "    }\n",
       "\n",
       "    .dataframe thead th {\n",
       "        text-align: right;\n",
       "    }\n",
       "</style>\n",
       "<table border=\"1\" class=\"dataframe\">\n",
       "  <thead>\n",
       "    <tr style=\"text-align: right;\">\n",
       "      <th></th>\n",
       "      <th>207391</th>\n",
       "      <th>207392</th>\n",
       "      <th>Level</th>\n",
       "      <th>Slope</th>\n",
       "      <th>Curvature</th>\n",
       "    </tr>\n",
       "  </thead>\n",
       "  <tbody>\n",
       "    <tr>\n",
       "      <th>2019-08-09</th>\n",
       "      <td>98.882812</td>\n",
       "      <td>99.789062</td>\n",
       "      <td>1.806375</td>\n",
       "      <td>0.416249</td>\n",
       "      <td>-0.621449</td>\n",
       "    </tr>\n",
       "    <tr>\n",
       "      <th>2019-08-12</th>\n",
       "      <td>99.796875</td>\n",
       "      <td>102.554688</td>\n",
       "      <td>1.715649</td>\n",
       "      <td>0.348970</td>\n",
       "      <td>-0.638499</td>\n",
       "    </tr>\n",
       "    <tr>\n",
       "      <th>2019-08-13</th>\n",
       "      <td>99.281250</td>\n",
       "      <td>101.867188</td>\n",
       "      <td>1.783262</td>\n",
       "      <td>0.281567</td>\n",
       "      <td>-0.669613</td>\n",
       "    </tr>\n",
       "    <tr>\n",
       "      <th>2019-08-14</th>\n",
       "      <td>100.406250</td>\n",
       "      <td>105.179688</td>\n",
       "      <td>1.678094</td>\n",
       "      <td>0.198027</td>\n",
       "      <td>-0.696493</td>\n",
       "    </tr>\n",
       "    <tr>\n",
       "      <th>2019-08-15</th>\n",
       "      <td>100.882812</td>\n",
       "      <td>106.234375</td>\n",
       "      <td>1.624473</td>\n",
       "      <td>0.217206</td>\n",
       "      <td>-0.690059</td>\n",
       "    </tr>\n",
       "  </tbody>\n",
       "</table>\n",
       "</div>"
      ],
      "text/plain": [
       "                207391      207392     Level     Slope  Curvature\n",
       "2019-08-09   98.882812   99.789062  1.806375  0.416249  -0.621449\n",
       "2019-08-12   99.796875  102.554688  1.715649  0.348970  -0.638499\n",
       "2019-08-13   99.281250  101.867188  1.783262  0.281567  -0.669613\n",
       "2019-08-14  100.406250  105.179688  1.678094  0.198027  -0.696493\n",
       "2019-08-15  100.882812  106.234375  1.624473  0.217206  -0.690059"
      ]
     },
     "execution_count": 66,
     "metadata": {},
     "output_type": "execute_result"
    }
   ],
   "source": [
    "# inner to keep only matching rows\n",
    "df_price_factors = price.merge(df_factors, left_index=True, right_index=True, how='inner') \n",
    "df_price_factors.head()"
   ]
  },
  {
   "cell_type": "code",
   "execution_count": 67,
   "id": "efc01ee6",
   "metadata": {},
   "outputs": [
    {
     "name": "stdout",
     "output_type": "stream",
     "text": [
      "Regression Results for Bond 207391:\n",
      "                            OLS Regression Results                            \n",
      "==============================================================================\n",
      "Dep. Variable:      207391_pct_change   R-squared:                       0.942\n",
      "Model:                            OLS   Adj. R-squared:                  0.942\n",
      "Method:                 Least Squares   F-statistic:                     7129.\n",
      "Date:                Mon, 03 Feb 2025   Prob (F-statistic):               0.00\n",
      "Time:                        14:47:43   Log-Likelihood:                 7196.5\n",
      "No. Observations:                1329   AIC:                        -1.439e+04\n",
      "Df Residuals:                    1325   BIC:                        -1.436e+04\n",
      "Df Model:                           3                                         \n",
      "Covariance Type:            nonrobust                                         \n",
      "==================================================================================\n",
      "                     coef    std err          t      P>|t|      [0.025      0.975]\n",
      "----------------------------------------------------------------------------------\n",
      "const           6.396e-05   2.96e-05      2.161      0.031    5.89e-06       0.000\n",
      "Level_diff        -0.0699      0.001    -97.562      0.000      -0.071      -0.069\n",
      "Slope_diff        -0.0048      0.001     -6.792      0.000      -0.006      -0.003\n",
      "Curvature_diff    -0.0109      0.001    -13.132      0.000      -0.013      -0.009\n",
      "==============================================================================\n",
      "Omnibus:                      226.062   Durbin-Watson:                   2.180\n",
      "Prob(Omnibus):                  0.000   Jarque-Bera (JB):             3237.842\n",
      "Skew:                           0.301   Prob(JB):                         0.00\n",
      "Kurtosis:                      10.623   Cond. No.                         36.4\n",
      "==============================================================================\n",
      "\n",
      "Notes:\n",
      "[1] Standard Errors assume that the covariance matrix of the errors is correctly specified.\n"
     ]
    }
   ],
   "source": [
    "import numpy as np\n",
    "import pandas as pd\n",
    "import statsmodels.api as sm\n",
    "\n",
    "# Compute percentage changes for bond prices (dP/P)\n",
    "df_price_factors['207391_pct_change'] = df_price_factors[207391].pct_change()\n",
    "df_price_factors['207392_pct_change'] = df_price_factors[207392].pct_change()\n",
    "\n",
    "# Compute first differences for factors (dFactor)\n",
    "df_price_factors['Level_diff'] = df_price_factors['Level'].diff()\n",
    "df_price_factors['Slope_diff'] = df_price_factors['Slope'].diff()\n",
    "df_price_factors['Curvature_diff'] = df_price_factors['Curvature'].diff()\n",
    "\n",
    "# Drop NaN values due to differencing\n",
    "df_price_factors.dropna(inplace=True)\n",
    "\n",
    "# Define independent (X) and dependent (Y) variables for regression\n",
    "X = df_price_factors[['Level_diff', 'Slope_diff', 'Curvature_diff']]\n",
    "X = sm.add_constant(X)  # Add intercept\n",
    "\n",
    "# Regression for bond 207391\n",
    "y_207391 = df_price_factors['207391_pct_change']\n",
    "model_207391 = sm.OLS(y_207391, X).fit()\n",
    "\n",
    "# Regression for bond 207392\n",
    "y_207392 = df_price_factors['207392_pct_change']\n",
    "model_207392 = sm.OLS(y_207392, X).fit()\n",
    "\n",
    "# Print results\n",
    "print(\"Regression Results for Bond 207391:\")\n",
    "print(model_207391.summary())"
   ]
  },
  {
   "cell_type": "code",
   "execution_count": 68,
   "id": "4ecc622b",
   "metadata": {},
   "outputs": [
    {
     "name": "stdout",
     "output_type": "stream",
     "text": [
      "\n",
      "Regression Results for Bond 207392:\n",
      "                            OLS Regression Results                            \n",
      "==============================================================================\n",
      "Dep. Variable:      207392_pct_change   R-squared:                       0.960\n",
      "Model:                            OLS   Adj. R-squared:                  0.960\n",
      "Method:                 Least Squares   F-statistic:                 1.066e+04\n",
      "Date:                Mon, 03 Feb 2025   Prob (F-statistic):               0.00\n",
      "Time:                        14:47:43   Log-Likelihood:                 6148.4\n",
      "No. Observations:                1329   AIC:                        -1.229e+04\n",
      "Df Residuals:                    1325   BIC:                        -1.227e+04\n",
      "Df Model:                           3                                         \n",
      "Covariance Type:            nonrobust                                         \n",
      "==================================================================================\n",
      "                     coef    std err          t      P>|t|      [0.025      0.975]\n",
      "----------------------------------------------------------------------------------\n",
      "const           6.865e-05   6.51e-05      1.054      0.292   -5.91e-05       0.000\n",
      "Level_diff        -0.1980      0.002   -125.512      0.000      -0.201      -0.195\n",
      "Slope_diff        -0.1265      0.002    -82.045      0.000      -0.130      -0.123\n",
      "Curvature_diff     0.0749      0.002     40.895      0.000       0.071       0.078\n",
      "==============================================================================\n",
      "Omnibus:                      505.332   Durbin-Watson:                   2.449\n",
      "Prob(Omnibus):                  0.000   Jarque-Bera (JB):           212293.080\n",
      "Skew:                          -0.256   Prob(JB):                         0.00\n",
      "Kurtosis:                      64.915   Cond. No.                         36.4\n",
      "==============================================================================\n",
      "\n",
      "Notes:\n",
      "[1] Standard Errors assume that the covariance matrix of the errors is correctly specified.\n"
     ]
    }
   ],
   "source": [
    "print(\"\\nRegression Results for Bond 207392:\")\n",
    "print(model_207392.summary())"
   ]
  },
  {
   "cell_type": "code",
   "execution_count": 69,
   "id": "9f0e4b53",
   "metadata": {},
   "outputs": [
    {
     "name": "stdout",
     "output_type": "stream",
     "text": [
      "Regression Parameters for Bond 207391:\n",
      "const             0.000064\n",
      "Level_diff       -0.069938\n",
      "Slope_diff       -0.004759\n",
      "Curvature_diff   -0.010926\n",
      "dtype: float64\n",
      "\n",
      "Regression Parameters for Bond 207392:\n",
      "const             0.000069\n",
      "Level_diff       -0.197983\n",
      "Slope_diff       -0.126491\n",
      "Curvature_diff    0.074870\n",
      "dtype: float64\n"
     ]
    }
   ],
   "source": [
    "# Print coefficients (alpha and betas) for Bond 207391\n",
    "print(\"Regression Parameters for Bond 207391:\")\n",
    "print(model_207391.params)  # Alpha and Betas\n",
    "\n",
    "# Print coefficients (alpha and betas) for Bond 207392\n",
    "print(\"\\nRegression Parameters for Bond 207392:\")\n",
    "print(model_207392.params)"
   ]
  },
  {
   "cell_type": "markdown",
   "id": "4776f6e5",
   "metadata": {},
   "source": [
    "### 2.3.\n",
    "\n",
    "Compare the \"level\" factor beta for each of the two treasuries with the average  duration for each bond as reported in the data set.\n",
    "\n",
    "* How closely does the average duration for a bond compare to its \"level\" beta?\n",
    "* What do you conclude about the usefulness of mathematical duration vs regression sensitivities?"
   ]
  },
  {
   "cell_type": "code",
   "execution_count": 70,
   "id": "b590bc2a",
   "metadata": {},
   "outputs": [
    {
     "data": {
      "text/html": [
       "<div>\n",
       "<style scoped>\n",
       "    .dataframe tbody tr th:only-of-type {\n",
       "        vertical-align: middle;\n",
       "    }\n",
       "\n",
       "    .dataframe tbody tr th {\n",
       "        vertical-align: top;\n",
       "    }\n",
       "\n",
       "    .dataframe thead th {\n",
       "        text-align: right;\n",
       "    }\n",
       "</style>\n",
       "<table border=\"1\" class=\"dataframe\">\n",
       "  <thead>\n",
       "    <tr style=\"text-align: right;\">\n",
       "      <th></th>\n",
       "      <th>207391</th>\n",
       "      <th>207392</th>\n",
       "      <th>Level</th>\n",
       "      <th>Slope</th>\n",
       "      <th>Curvature</th>\n",
       "    </tr>\n",
       "  </thead>\n",
       "  <tbody>\n",
       "    <tr>\n",
       "      <th>2019-08-09</th>\n",
       "      <td>9.289497</td>\n",
       "      <td>22.000102</td>\n",
       "      <td>1.806375</td>\n",
       "      <td>0.416249</td>\n",
       "      <td>-0.621449</td>\n",
       "    </tr>\n",
       "    <tr>\n",
       "      <th>2019-08-12</th>\n",
       "      <td>9.285468</td>\n",
       "      <td>22.118496</td>\n",
       "      <td>1.715649</td>\n",
       "      <td>0.348970</td>\n",
       "      <td>-0.638499</td>\n",
       "    </tr>\n",
       "  </tbody>\n",
       "</table>\n",
       "</div>"
      ],
      "text/plain": [
       "              207391     207392     Level     Slope  Curvature\n",
       "2019-08-09  9.289497  22.000102  1.806375  0.416249  -0.621449\n",
       "2019-08-12  9.285468  22.118496  1.715649  0.348970  -0.638499"
      ]
     },
     "execution_count": 70,
     "metadata": {},
     "output_type": "execute_result"
    }
   ],
   "source": [
    "# inner to keep only matching rows\n",
    "df_dur_factors = duration.merge(df_factors, left_index=True, right_index=True, how='inner') \n",
    "df_dur_factors.head(2)"
   ]
  },
  {
   "cell_type": "code",
   "execution_count": 71,
   "id": "3e1011d9",
   "metadata": {},
   "outputs": [
    {
     "name": "stdout",
     "output_type": "stream",
     "text": [
      "Level Factor Beta - 207391: -0.0699\n",
      "Level Factor Beta - 207392: -0.1980\n"
     ]
    }
   ],
   "source": [
    "# Level factor\n",
    "level_207391 = (model_207391.params.iloc[1])\n",
    "print(f\"Level Factor Beta - 207391: {level_207391:,.4f}\")\n",
    "\n",
    "# Level factor\n",
    "level_207392 = (model_207392.params.iloc[1])\n",
    "print(f\"Level Factor Beta - 207392: {level_207392:,.4f}\")"
   ]
  },
  {
   "cell_type": "code",
   "execution_count": 72,
   "id": "4ed611c3",
   "metadata": {},
   "outputs": [
    {
     "name": "stdout",
     "output_type": "stream",
     "text": [
      "Duration - 207391: 6.9237\n",
      "Duration - 207392: 19.9032\n",
      "Level Factor Beta Adjusted - 207391: 6.9938\n",
      "Level Factor Beta Adjusted - 207392: 19.7983\n"
     ]
    }
   ],
   "source": [
    "dur_ave_207391 = df_dur_factors[207391].mean()\n",
    "print(f\"Duration - 207391: {dur_ave_207391:,.4f}\")\n",
    "\n",
    "dur_ave_207392 = df_dur_factors[207392].mean()\n",
    "print(f\"Duration - 207392: {dur_ave_207392:,.4f}\")\n",
    "\n",
    "# Level factor\n",
    "level_207391 = (model_207391.params.iloc[1]) * -100\n",
    "print(f\"Level Factor Beta Adjusted - 207391: {level_207391:,.4f}\")\n",
    "\n",
    "# Level factor\n",
    "level_207392 = (model_207392.params.iloc[1]) * -100\n",
    "print(f\"Level Factor Beta Adjusted - 207392: {level_207392:,.4f}\")"
   ]
  },
  {
   "cell_type": "markdown",
   "id": "97fe950e",
   "metadata": {},
   "source": [
    "* How closely does the average duration for a bond compare to its \"level\" beta?\n",
    "\n",
    "It seems the average duration is (-100) times the level beta for each bond. Once we multiply the level beta by (-100), the average duration and the adjusted level beta are very close, with the level beta slightly overestimating the duration numbers.\n",
    "\n",
    "* What do you conclude about the usefulness of mathematical duration vs regression sensitivities?\n",
    "\n",
    "Both are useful in measuring the sensitivity for how a bond's price will change due to changes in interest rate. The mathematical duration is a direct way of computing duration and the regression sensitivities are an estimation method. However, the regression method overestimates the sensitivity of the bond's price to changes in interest rate. "
   ]
  },
  {
   "cell_type": "markdown",
   "id": "2df02787",
   "metadata": {},
   "source": [
    "### 2.4.\n",
    "\n",
    "In the duration-hedged trade of `Homework 2, Section 2`, was the that trade was long or short this slope factor? \n",
    "\n",
    "Do you think the slope factor exposure had a large impact on the trade?\n",
    "\n",
    "No new analysis needed, just draw a conclusion from the estimates above along with the trade construction in `HW 2, Sec 2`."
   ]
  },
  {
   "cell_type": "markdown",
   "id": "6bb68b08",
   "metadata": {},
   "source": [
    "In homework 2, section 2, we are long in security `207391` and short for security `207392`.\n",
    "\n",
    "For 207391, the coefficient for the slope factor is -0.005585. <br>\n",
    "For 207392, the coefficient for the slope factor is -0.130103.\n",
    "\n",
    "This means we are going long on the security with a lower (in magnitude) slope factor and we are going short on the security with a higher (in magnitude) slope factor. In other words, the trade was short the slope factor.\n",
    "\n",
    "No, the slope factor exposure does not have a large impact on the trade. The level factor has a larger impact on the trade. To illustrate, for 207392, the level factor coeficient is -0.203368, which is bigger (in magnitude), compared to the coefficient for the slope factor. \n",
    "\n",
    "\n",
    "We are long the short-dated note and short the long-dated bond. As such, we expect the short-dated yield to come down relative to the long-dated yield. You can reconcile this with our slope factor and see if this implies the slope factor goes up (down), in which case you would be long (short). \n",
    "\n",
    "Obviously, it would depend on which sign you used when creating your slope factor (e.g. front yield minus back yield instead of back yield minus front yield).\n",
    "\n",
    "Given the massive duration and maturity mismatch between our bonds, our exposure to a slope factor would be pretty massive in this trade."
   ]
  },
  {
   "cell_type": "markdown",
   "id": "fcabcd0c",
   "metadata": {},
   "source": [
    "***"
   ]
  },
  {
   "cell_type": "markdown",
   "id": "9168eed2",
   "metadata": {},
   "source": [
    "# 3 Calculating Duration Via Individual Cashflows\n",
    "\n",
    "## *Optional, not submitted*"
   ]
  },
  {
   "cell_type": "markdown",
   "id": "432e95d6",
   "metadata": {},
   "source": [
    "Use the data file `../data/treasury_quotes_2024-10-31.xlsx`.\n",
    "\n",
    "### 3.1 \n",
    "Set up the cashflow matrix. \n",
    "\n",
    "### 3.2\n",
    "Extract the Nelson-Siegel spot discount curve, as you did in `Homework 1`.\n",
    "\n",
    "### 3.3\n",
    "For each treasury issue, calculate the duration as the weighted average of the (discounted!) cashflow maturity.\n",
    "\n",
    "Report the summary statistics of the durations. (Use `.describe()` from pandas.)\n",
    "\n",
    "### 3.4\n",
    "How close are your duration estimates to the imputed durations given in the data source?\n",
    "\n",
    "Report the summary statistics of the imputed durations minus your calculated durations from above.\n",
    "\n",
    "### 3.5\n",
    "Continue using your assumed discount rates of `4.5`\\% to calculate the convexity of each issue.\n",
    "\n",
    "Report the summary statistics of these convexity calculations."
   ]
  },
  {
   "cell_type": "markdown",
   "id": "d28e865d",
   "metadata": {},
   "source": [
    "***"
   ]
  }
 ],
 "metadata": {
  "hide_input": false,
  "kernelspec": {
   "display_name": "Python 3",
   "language": "python",
   "name": "python3"
  },
  "language_info": {
   "codemirror_mode": {
    "name": "ipython",
    "version": 3
   },
   "file_extension": ".py",
   "mimetype": "text/x-python",
   "name": "python",
   "nbconvert_exporter": "python",
   "pygments_lexer": "ipython3",
   "version": "3.9.6"
  }
 },
 "nbformat": 4,
 "nbformat_minor": 5
}
